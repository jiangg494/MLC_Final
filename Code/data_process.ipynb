{
 "cells": [
  {
   "cell_type": "code",
   "execution_count": 2,
   "id": "784aa872",
   "metadata": {},
   "outputs": [],
   "source": [
    "import pandas as pd\n",
    "import numpy as np\n",
    "import warnings\n",
    "warnings.filterwarnings('ignore')"
   ]
  },
  {
   "cell_type": "code",
   "execution_count": 2,
   "id": "06bbedc0",
   "metadata": {},
   "outputs": [],
   "source": [
    "data_1995 = pd.read_csv('1995_Street_Tree_Census.csv')\n",
    "data_2005 = pd.read_csv('2005_Street_Tree_Census.csv')\n",
    "data_2015 = pd.read_csv('2015_Street_Tree_Census.csv')\n",
    "data_nyc = pd.read_csv('nyc_income_age_ house_cost.csv')\n",
    "data_pop = pd.read_csv('nyc_zip_borough_neighborhoods_pop.csv')"
   ]
  },
  {
   "cell_type": "code",
   "execution_count": 6,
   "id": "c67f5457",
   "metadata": {},
   "outputs": [
    {
     "name": "stdout",
     "output_type": "stream",
     "text": [
      "1995-census tract: 1311\n",
      "2005-census tract: 1322\n",
      "2015-census tract: 1316\n"
     ]
    }
   ],
   "source": [
    "print(\"1995-census tract:\", len(data_1995.CensusTract_2010.unique()))\n",
    "print(\"2005-census tract:\", len(data_2005['census tract'].unique()))\n",
    "print(\"2015-census tract:\", len(data_2015['census tract'].unique()))"
   ]
  },
  {
   "cell_type": "code",
   "execution_count": 7,
   "id": "58ffcdb9",
   "metadata": {},
   "outputs": [
    {
     "name": "stdout",
     "output_type": "stream",
     "text": [
      "1995-zipcode: 181\n",
      "2005-zipcode: 188\n",
      "2015-zipcode: 191\n"
     ]
    }
   ],
   "source": [
    "print(\"1995-zipcode:\", len(data_1995.Postcode_Original.unique()))\n",
    "print(\"2005-zipcode:\", len(data_2005['zipcode'].unique()))\n",
    "print(\"2015-zipcode:\", len(data_2015['postcode'].unique()))"
   ]
  },
  {
   "cell_type": "code",
   "execution_count": 8,
   "id": "16c8e2c7",
   "metadata": {},
   "outputs": [],
   "source": [
    "data_1995 = data_1995.rename(columns={'Postcode_Original':'zipcode',\n",
    "                          'CensusTract_2010':'census_tract',\n",
    "                          'Borough':'borough',\n",
    "                          'Address':'address',\n",
    "                          'RecordId':'tree_id',\n",
    "                          'Latitude':'latitude',\n",
    "                          'Longitude':'longitude',\n",
    "                          'Diameter':'tree_dbh',\n",
    "                          'Condition':'health',\n",
    "                          'Spc_Latin':'spc_latin',\n",
    "                          'Spc_Common':'spc_common'\n",
    "                          })"
   ]
  },
  {
   "cell_type": "code",
   "execution_count": 9,
   "id": "ddeb953d",
   "metadata": {},
   "outputs": [],
   "source": [
    "data_2005 = data_2005.rename(columns={'census tract':'census_tract',\n",
    "                          'boroname':'borough',\n",
    "                          'OBJECTID':'tree_id',\n",
    "                          'status':'health'\n",
    "                          })"
   ]
  },
  {
   "cell_type": "code",
   "execution_count": 10,
   "id": "dcd0a2ef",
   "metadata": {},
   "outputs": [],
   "source": [
    "data_2015 = data_2015.rename(columns={'census tract':'census_tract',\n",
    "                          'postcode':'zipcode',\n",
    "                          })"
   ]
  },
  {
   "cell_type": "code",
   "execution_count": 11,
   "id": "64fec117",
   "metadata": {},
   "outputs": [],
   "source": [
    "filter_1995 = data_1995[['tree_id','address','borough','zipcode','census_tract',\n",
    "                        'latitude','longitude','tree_dbh','health',\n",
    "                        'Wires','Site','Sidewalk_Condition',\n",
    "                        'Support_Structure','spc_latin','spc_common']]\n",
    "\n",
    "filter_2005 = data_2005[['tree_id','address','borough','zipcode','census_tract',\n",
    "                        'latitude','longitude','tree_dbh','health','tree_loc',\n",
    "                        'pit_type','soil_lvl','vert_other','vert_pgrd', \n",
    "                        'vert_tgrd', 'vert_wall', 'horz_blck', 'horz_grate',\n",
    "                        'horz_plant', 'horz_other', 'sidw_crack','sidw_raise', \n",
    "                        'wire_htap','wire_prime', 'wire_2nd', 'wire_other', \n",
    "                        'inf_canopy', 'inf_guard','inf_wires', 'inf_paving', \n",
    "                        'inf_outlet', 'inf_shoes', 'inf_lights','inf_other', \n",
    "                        'trunk_dmg','spc_latin','spc_common']]\n",
    "\n",
    "\n",
    "filter_2015 = data_2015[['tree_id','address','borough','zipcode','census_tract',\n",
    "                        'latitude','longitude','tree_dbh','status','curb_loc',\n",
    "                        'health','guards', 'sidewalk', 'user_type', 'problems', \n",
    "                        'root_stone','root_grate', 'root_other', 'trunk_wire', \n",
    "                        'trnk_light', 'trnk_other','brch_light', 'brch_shoe', \n",
    "                        'brch_other','spc_latin','spc_common']]\n"
   ]
  },
  {
   "cell_type": "code",
   "execution_count": 12,
   "id": "b04696d9",
   "metadata": {},
   "outputs": [],
   "source": [
    "filter_1995 = filter_1995[filter_1995.zipcode != 0]\n",
    "filter_2005 = filter_2005[filter_2005.zipcode != 0]\n",
    "filter_2015 = filter_2015[filter_2015.zipcode != 83]\n",
    "\n",
    "# filter_2015 = filter_2015[~filter_2015.spc_latin.isna()]\n",
    "# filter_2015 = filter_2015[~filter_2015.spc_common.isna()]"
   ]
  },
  {
   "cell_type": "code",
   "execution_count": 220,
   "id": "b0788d45",
   "metadata": {},
   "outputs": [
    {
     "name": "stdout",
     "output_type": "stream",
     "text": [
      "filter_1995.shape: (515085, 15)\n",
      "filter_2005.shape: (583461, 37)\n",
      "filter_2015.shape: (682853, 26)\n"
     ]
    }
   ],
   "source": [
    "print('filter_1995.shape:',filter_1995.shape)\n",
    "print('filter_2005.shape:',filter_2005.shape)\n",
    "print('filter_2015.shape:',filter_2015.shape)"
   ]
  },
  {
   "cell_type": "code",
   "execution_count": 115,
   "id": "3e4a39ff",
   "metadata": {},
   "outputs": [],
   "source": [
    "# filter_1995_2 = filter_1995[~filter_1995.census_tract.isna()]\n",
    "# filter_2005_2 = filter_2005[~filter_2005.census_tract.isna()]\n",
    "# filter_2015_2 = filter_2015[~filter_2015.census_tract.isna()]\n",
    "\n",
    "# print('filter_1995.shape:',filter_1995_2.shape)\n",
    "# print('filter_2005.shape:',filter_2005_2.shape)\n",
    "# print('filter_2015.shape:',filter_2015_2.shape)"
   ]
  },
  {
   "cell_type": "markdown",
   "id": "28565ec9",
   "metadata": {},
   "source": [
    "### 1. max common species in different zipcode during three census"
   ]
  },
  {
   "cell_type": "code",
   "execution_count": 177,
   "id": "80751dc0",
   "metadata": {},
   "outputs": [],
   "source": [
    "zip_max10_spc_2015 = filter_2015.groupby(['zipcode','spc_common']).agg({\n",
    "    'tree_id':'count'\n",
    "}).reset_index().sort_values(['zipcode','tree_id'],ascending=False)\\\n",
    ".groupby(['zipcode']).head(10).sort_values(['zipcode','tree_id'],ascending=[True,False])\n"
   ]
  },
  {
   "cell_type": "code",
   "execution_count": 180,
   "id": "b9123748",
   "metadata": {},
   "outputs": [],
   "source": [
    "zip_max10_spc_2005 = filter_2005.groupby(['zipcode','spc_common']).agg({\n",
    "    'tree_id':'count'\n",
    "}).reset_index().sort_values(['zipcode','tree_id'],ascending=False)\\\n",
    ".groupby(['zipcode']).head(10).sort_values(['zipcode','tree_id'],ascending=[True,False])\n"
   ]
  },
  {
   "cell_type": "code",
   "execution_count": 181,
   "id": "aefef1e0",
   "metadata": {},
   "outputs": [],
   "source": [
    "zip_max10_spc_1995 = filter_1995.groupby(['zipcode','spc_common']).agg({\n",
    "    'tree_id':'count'\n",
    "}).reset_index().sort_values(['zipcode','tree_id'],ascending=False)\\\n",
    ".groupby(['zipcode']).head(10).sort_values(['zipcode','tree_id'],ascending=[True,False])\n"
   ]
  },
  {
   "cell_type": "code",
   "execution_count": 188,
   "id": "92ab1a1c",
   "metadata": {},
   "outputs": [
    {
     "data": {
      "text/html": [
       "<div>\n",
       "<style scoped>\n",
       "    .dataframe tbody tr th:only-of-type {\n",
       "        vertical-align: middle;\n",
       "    }\n",
       "\n",
       "    .dataframe tbody tr th {\n",
       "        vertical-align: top;\n",
       "    }\n",
       "\n",
       "    .dataframe thead th {\n",
       "        text-align: right;\n",
       "    }\n",
       "</style>\n",
       "<table border=\"1\" class=\"dataframe\">\n",
       "  <thead>\n",
       "    <tr style=\"text-align: right;\">\n",
       "      <th></th>\n",
       "      <th>zipcode</th>\n",
       "      <th>spc_common</th>\n",
       "      <th>tree_id</th>\n",
       "    </tr>\n",
       "  </thead>\n",
       "  <tbody>\n",
       "    <tr>\n",
       "      <th>18</th>\n",
       "      <td>10001</td>\n",
       "      <td>PEAR, CALLERY</td>\n",
       "      <td>184</td>\n",
       "    </tr>\n",
       "    <tr>\n",
       "      <th>11</th>\n",
       "      <td>10001</td>\n",
       "      <td>LONDON PLANETREE</td>\n",
       "      <td>153</td>\n",
       "    </tr>\n",
       "    <tr>\n",
       "      <th>7</th>\n",
       "      <td>10001</td>\n",
       "      <td>HONEYLOCUST</td>\n",
       "      <td>96</td>\n",
       "    </tr>\n",
       "    <tr>\n",
       "      <th>17</th>\n",
       "      <td>10001</td>\n",
       "      <td>OAK, PIN</td>\n",
       "      <td>75</td>\n",
       "    </tr>\n",
       "    <tr>\n",
       "      <th>3</th>\n",
       "      <td>10001</td>\n",
       "      <td>CHERRY, CORNELIAN</td>\n",
       "      <td>38</td>\n",
       "    </tr>\n",
       "    <tr>\n",
       "      <th>9</th>\n",
       "      <td>10001</td>\n",
       "      <td>LINDEN, LITTLE LEAF</td>\n",
       "      <td>33</td>\n",
       "    </tr>\n",
       "    <tr>\n",
       "      <th>5</th>\n",
       "      <td>10001</td>\n",
       "      <td>GINKGO</td>\n",
       "      <td>30</td>\n",
       "    </tr>\n",
       "    <tr>\n",
       "      <th>19</th>\n",
       "      <td>10001</td>\n",
       "      <td>PLANTING SITE</td>\n",
       "      <td>25</td>\n",
       "    </tr>\n",
       "    <tr>\n",
       "      <th>4</th>\n",
       "      <td>10001</td>\n",
       "      <td>ELM, AMERICAN</td>\n",
       "      <td>22</td>\n",
       "    </tr>\n",
       "    <tr>\n",
       "      <th>8</th>\n",
       "      <td>10001</td>\n",
       "      <td>JAPANESE PAGODA TREE</td>\n",
       "      <td>18</td>\n",
       "    </tr>\n",
       "  </tbody>\n",
       "</table>\n",
       "</div>"
      ],
      "text/plain": [
       "    zipcode            spc_common  tree_id\n",
       "18    10001         PEAR, CALLERY      184\n",
       "11    10001      LONDON PLANETREE      153\n",
       "7     10001           HONEYLOCUST       96\n",
       "17    10001              OAK, PIN       75\n",
       "3     10001     CHERRY, CORNELIAN       38\n",
       "9     10001   LINDEN, LITTLE LEAF       33\n",
       "5     10001                GINKGO       30\n",
       "19    10001         PLANTING SITE       25\n",
       "4     10001         ELM, AMERICAN       22\n",
       "8     10001  JAPANESE PAGODA TREE       18"
      ]
     },
     "execution_count": 188,
     "metadata": {},
     "output_type": "execute_result"
    }
   ],
   "source": [
    "zip_max10_spc_1995[zip_max10_spc_1995['zipcode']==10001]"
   ]
  },
  {
   "cell_type": "code",
   "execution_count": 189,
   "id": "95ccbe52",
   "metadata": {},
   "outputs": [
    {
     "data": {
      "text/html": [
       "<div>\n",
       "<style scoped>\n",
       "    .dataframe tbody tr th:only-of-type {\n",
       "        vertical-align: middle;\n",
       "    }\n",
       "\n",
       "    .dataframe tbody tr th {\n",
       "        vertical-align: top;\n",
       "    }\n",
       "\n",
       "    .dataframe thead th {\n",
       "        text-align: right;\n",
       "    }\n",
       "</style>\n",
       "<table border=\"1\" class=\"dataframe\">\n",
       "  <thead>\n",
       "    <tr style=\"text-align: right;\">\n",
       "      <th></th>\n",
       "      <th>zipcode</th>\n",
       "      <th>spc_common</th>\n",
       "      <th>tree_id</th>\n",
       "    </tr>\n",
       "  </thead>\n",
       "  <tbody>\n",
       "    <tr>\n",
       "      <th>22</th>\n",
       "      <td>10001</td>\n",
       "      <td>PEAR, CALLERY</td>\n",
       "      <td>188</td>\n",
       "    </tr>\n",
       "    <tr>\n",
       "      <th>9</th>\n",
       "      <td>10001</td>\n",
       "      <td>HONEYLOCUST</td>\n",
       "      <td>133</td>\n",
       "    </tr>\n",
       "    <tr>\n",
       "      <th>14</th>\n",
       "      <td>10001</td>\n",
       "      <td>LONDON PLANETREE</td>\n",
       "      <td>95</td>\n",
       "    </tr>\n",
       "    <tr>\n",
       "      <th>12</th>\n",
       "      <td>10001</td>\n",
       "      <td>LINDEN, LITTLE LEAF</td>\n",
       "      <td>82</td>\n",
       "    </tr>\n",
       "    <tr>\n",
       "      <th>18</th>\n",
       "      <td>10001</td>\n",
       "      <td>OAK, PIN</td>\n",
       "      <td>68</td>\n",
       "    </tr>\n",
       "    <tr>\n",
       "      <th>29</th>\n",
       "      <td>10001</td>\n",
       "      <td>ZELKOVA, JAPANESE</td>\n",
       "      <td>60</td>\n",
       "    </tr>\n",
       "    <tr>\n",
       "      <th>6</th>\n",
       "      <td>10001</td>\n",
       "      <td>GINKGO</td>\n",
       "      <td>23</td>\n",
       "    </tr>\n",
       "    <tr>\n",
       "      <th>10</th>\n",
       "      <td>10001</td>\n",
       "      <td>JAPANESE PAGODA TREE</td>\n",
       "      <td>19</td>\n",
       "    </tr>\n",
       "    <tr>\n",
       "      <th>4</th>\n",
       "      <td>10001</td>\n",
       "      <td>ELM, AMERICAN</td>\n",
       "      <td>15</td>\n",
       "    </tr>\n",
       "    <tr>\n",
       "      <th>28</th>\n",
       "      <td>10001</td>\n",
       "      <td>Unknown Dead</td>\n",
       "      <td>15</td>\n",
       "    </tr>\n",
       "  </tbody>\n",
       "</table>\n",
       "</div>"
      ],
      "text/plain": [
       "    zipcode            spc_common  tree_id\n",
       "22    10001         PEAR, CALLERY      188\n",
       "9     10001           HONEYLOCUST      133\n",
       "14    10001      LONDON PLANETREE       95\n",
       "12    10001   LINDEN, LITTLE LEAF       82\n",
       "18    10001              OAK, PIN       68\n",
       "29    10001     ZELKOVA, JAPANESE       60\n",
       "6     10001                GINKGO       23\n",
       "10    10001  JAPANESE PAGODA TREE       19\n",
       "4     10001         ELM, AMERICAN       15\n",
       "28    10001          Unknown Dead       15"
      ]
     },
     "execution_count": 189,
     "metadata": {},
     "output_type": "execute_result"
    }
   ],
   "source": [
    "zip_max10_spc_2005[zip_max10_spc_2005['zipcode']==10001]"
   ]
  },
  {
   "cell_type": "code",
   "execution_count": 191,
   "id": "95574137",
   "metadata": {},
   "outputs": [
    {
     "data": {
      "text/html": [
       "<div>\n",
       "<style scoped>\n",
       "    .dataframe tbody tr th:only-of-type {\n",
       "        vertical-align: middle;\n",
       "    }\n",
       "\n",
       "    .dataframe tbody tr th {\n",
       "        vertical-align: top;\n",
       "    }\n",
       "\n",
       "    .dataframe thead th {\n",
       "        text-align: right;\n",
       "    }\n",
       "</style>\n",
       "<table border=\"1\" class=\"dataframe\">\n",
       "  <thead>\n",
       "    <tr style=\"text-align: right;\">\n",
       "      <th></th>\n",
       "      <th>zipcode</th>\n",
       "      <th>spc_common</th>\n",
       "      <th>tree_id</th>\n",
       "    </tr>\n",
       "  </thead>\n",
       "  <tbody>\n",
       "    <tr>\n",
       "      <th>22</th>\n",
       "      <td>10001</td>\n",
       "      <td>honeylocust</td>\n",
       "      <td>257</td>\n",
       "    </tr>\n",
       "    <tr>\n",
       "      <th>5</th>\n",
       "      <td>10001</td>\n",
       "      <td>Callery pear</td>\n",
       "      <td>136</td>\n",
       "    </tr>\n",
       "    <tr>\n",
       "      <th>9</th>\n",
       "      <td>10001</td>\n",
       "      <td>Japanese zelkova</td>\n",
       "      <td>75</td>\n",
       "    </tr>\n",
       "    <tr>\n",
       "      <th>23</th>\n",
       "      <td>10001</td>\n",
       "      <td>littleleaf linden</td>\n",
       "      <td>66</td>\n",
       "    </tr>\n",
       "    <tr>\n",
       "      <th>25</th>\n",
       "      <td>10001</td>\n",
       "      <td>pin oak</td>\n",
       "      <td>64</td>\n",
       "    </tr>\n",
       "    <tr>\n",
       "      <th>12</th>\n",
       "      <td>10001</td>\n",
       "      <td>Sophora</td>\n",
       "      <td>46</td>\n",
       "    </tr>\n",
       "    <tr>\n",
       "      <th>19</th>\n",
       "      <td>10001</td>\n",
       "      <td>ginkgo</td>\n",
       "      <td>40</td>\n",
       "    </tr>\n",
       "    <tr>\n",
       "      <th>1</th>\n",
       "      <td>10001</td>\n",
       "      <td>American elm</td>\n",
       "      <td>37</td>\n",
       "    </tr>\n",
       "    <tr>\n",
       "      <th>32</th>\n",
       "      <td>10001</td>\n",
       "      <td>willow oak</td>\n",
       "      <td>27</td>\n",
       "    </tr>\n",
       "    <tr>\n",
       "      <th>11</th>\n",
       "      <td>10001</td>\n",
       "      <td>London planetree</td>\n",
       "      <td>21</td>\n",
       "    </tr>\n",
       "  </tbody>\n",
       "</table>\n",
       "</div>"
      ],
      "text/plain": [
       "    zipcode         spc_common  tree_id\n",
       "22    10001        honeylocust      257\n",
       "5     10001       Callery pear      136\n",
       "9     10001   Japanese zelkova       75\n",
       "23    10001  littleleaf linden       66\n",
       "25    10001            pin oak       64\n",
       "12    10001            Sophora       46\n",
       "19    10001             ginkgo       40\n",
       "1     10001       American elm       37\n",
       "32    10001         willow oak       27\n",
       "11    10001   London planetree       21"
      ]
     },
     "execution_count": 191,
     "metadata": {},
     "output_type": "execute_result"
    }
   ],
   "source": [
    "zip_max10_spc_2015[zip_max10_spc_2015['zipcode']==10001]"
   ]
  },
  {
   "cell_type": "markdown",
   "id": "33a9ca1c",
   "metadata": {},
   "source": [
    "### 2.tree count in different zipcode during three census"
   ]
  },
  {
   "cell_type": "code",
   "execution_count": 199,
   "id": "c1827966",
   "metadata": {},
   "outputs": [],
   "source": [
    "zip_tree_count_1995 = filter_1995.groupby('zipcode').agg({\n",
    "    'tree_id':'count'\n",
    "}).reset_index()\n",
    "zip_tree_count_2005 = filter_2005.groupby('zipcode').agg({\n",
    "    'tree_id':'count'\n",
    "}).reset_index()\n",
    "zip_tree_count_2015 = filter_2015.groupby('zipcode').agg({\n",
    "    'tree_id':'count'\n",
    "}).reset_index()"
   ]
  },
  {
   "cell_type": "code",
   "execution_count": 204,
   "id": "49bfb79e",
   "metadata": {},
   "outputs": [
    {
     "name": "stdout",
     "output_type": "stream",
     "text": [
      "1995:10001 tree count: 795\n",
      "2005:10001 tree count: 777\n",
      "2015:10001 tree count: 850\n"
     ]
    }
   ],
   "source": [
    "print('1995:10001 tree count:',zip_tree_count_1995[\n",
    "    zip_tree_count_1995['zipcode']==10001].tree_id.values[0])\n",
    "print('2005:10001 tree count:',zip_tree_count_2005[\n",
    "    zip_tree_count_2005['zipcode']==10001].tree_id.values[0])\n",
    "print('2015:10001 tree count:',zip_tree_count_2015[\n",
    "    zip_tree_count_2015['zipcode']==10001].tree_id.values[0])"
   ]
  },
  {
   "cell_type": "markdown",
   "id": "c3822ad3",
   "metadata": {},
   "source": [
    "### 3.tree condition in different zipcode during three census"
   ]
  },
  {
   "cell_type": "code",
   "execution_count": 255,
   "id": "801326d7",
   "metadata": {
    "scrolled": true
   },
   "outputs": [],
   "source": [
    "#Stump => Dead\n",
    "filter_1995['health'] = filter_1995['health'].apply(\n",
    "    lambda x:'Dead' if x =='Stump' else x)\n",
    "#Excellent => Good\n",
    "filter_1995['health'] = filter_1995['health'].apply(\n",
    "    lambda x:'Good' if x =='Excellent' else x)\n",
    "filter_2005['health'] = filter_2005['health'].apply(\n",
    "    lambda x:'Good' if x =='Excellent' else x)\n",
    "#2015.status==Dead/Stump => 2015.health=Dead\n",
    "filter_2015.health[filter_2015['status'].isin(['Stump','Dead'])]='Dead'"
   ]
  },
  {
   "cell_type": "code",
   "execution_count": 269,
   "id": "7ad68deb",
   "metadata": {},
   "outputs": [],
   "source": [
    "zip_tree_cond_1995 = filter_1995[filter_1995['health'].isin(['Dead','Good','Poor'])].groupby(['zipcode','health']).agg({\n",
    "    'tree_id':'count'\n",
    "}).reset_index().sort_values(['zipcode','health'],ascending=[True,True])\n",
    "\n",
    "zip_tree_cond_2005 = filter_2005[filter_2005['health'].isin(['Dead','Good','Poor'])].groupby(['zipcode','health']).agg({\n",
    "    'tree_id':'count'\n",
    "}).reset_index().sort_values(['zipcode','health'],ascending=[True,True])\n",
    "\n",
    "zip_tree_cond_2015 = filter_2015[filter_2015['health'].isin(['Dead','Good','Poor'])].groupby(['zipcode','health']).agg({\n",
    "    'tree_id':'count'\n",
    "}).reset_index().sort_values(['zipcode','health'],ascending=[True,True])\n"
   ]
  },
  {
   "cell_type": "code",
   "execution_count": 271,
   "id": "1652c524",
   "metadata": {},
   "outputs": [
    {
     "data": {
      "text/plain": [
       "array(['Dead', 'Good', 'Poor'], dtype=object)"
      ]
     },
     "execution_count": 271,
     "metadata": {},
     "output_type": "execute_result"
    }
   ],
   "source": [
    "zip_tree_cond_1995[\n",
    "    zip_tree_cond_1995['zipcode']==10001].health.values"
   ]
  },
  {
   "cell_type": "code",
   "execution_count": 280,
   "id": "8cb0813d",
   "metadata": {},
   "outputs": [
    {
     "name": "stdout",
     "output_type": "stream",
     "text": [
      "1995: 10001 tree condition:\n",
      "Dead 25 3.1446540880503147\n",
      "Good 589 74.0880503144654\n",
      "Poor 92 11.572327044025158\n",
      "\n",
      "2005: 10001 tree condition:\n",
      "Dead 17 2.187902187902188\n",
      "Good 693 89.1891891891892\n",
      "Poor 67 8.622908622908623\n",
      "\n",
      "2015: 10001 tree condition:\n",
      "Dead 61 7.1764705882352935\n",
      "Good 719 84.58823529411764\n",
      "Poor 31 3.6470588235294117\n"
     ]
    }
   ],
   "source": [
    "print('1995: 10001 tree condition:')\n",
    "for i in range(0,3):\n",
    "    print(zip_tree_cond_1995[\n",
    "        zip_tree_cond_1995['zipcode']==10001].health.values[i],\n",
    "          zip_tree_cond_1995[\n",
    "              zip_tree_cond_1995['zipcode']==10001].tree_id.values[i],\n",
    "         zip_tree_cond_1995[\n",
    "              zip_tree_cond_1995['zipcode']==10001].tree_id.values[i]\n",
    "          /zip_tree_count_1995[zip_tree_count_1995['zipcode']==10001].tree_id.values[0]*100)\n",
    "\n",
    "print('\\n2005: 10001 tree condition:')\n",
    "for i in range(0,3):\n",
    "    print(zip_tree_cond_2005[\n",
    "        zip_tree_cond_2005['zipcode']==10001].health.values[i],\n",
    "          zip_tree_cond_2005[\n",
    "              zip_tree_cond_2005['zipcode']==10001].tree_id.values[i],\n",
    "            zip_tree_cond_2005[\n",
    "              zip_tree_cond_2005['zipcode']==10001].tree_id.values[i]\n",
    "          /zip_tree_count_2005[zip_tree_count_2005['zipcode']==10001].tree_id.values[0]*100)\n",
    "\n",
    "    \n",
    "print('\\n2015: 10001 tree condition:')\n",
    "for i in range(0,3):\n",
    "    print(zip_tree_cond_2015[\n",
    "        zip_tree_cond_2015['zipcode']==10001].health.values[i],\n",
    "          zip_tree_cond_2015[\n",
    "              zip_tree_cond_2015['zipcode']==10001].tree_id.values[i],\n",
    "            zip_tree_cond_2015[\n",
    "              zip_tree_cond_2015['zipcode']==10001].tree_id.values[i]\n",
    "          /zip_tree_count_2015[zip_tree_count_2015['zipcode']==10001].tree_id.values[0]*100)\n",
    "\n"
   ]
  },
  {
   "cell_type": "code",
   "execution_count": 228,
   "id": "aaa7ed0d",
   "metadata": {},
   "outputs": [
    {
     "data": {
      "text/plain": [
       "array(['Unknown', 'Good', 'Poor', 'Dead', 'Planting Space', 'Shaft',\n",
       "       'Fair', 'Critical'], dtype=object)"
      ]
     },
     "execution_count": 228,
     "metadata": {},
     "output_type": "execute_result"
    }
   ],
   "source": [
    "filter_1995.health.unique()"
   ]
  },
  {
   "cell_type": "code",
   "execution_count": 227,
   "id": "932fc31b",
   "metadata": {
    "scrolled": true
   },
   "outputs": [
    {
     "data": {
      "text/plain": [
       "array(['Good', 'Poor', 'Dead'], dtype=object)"
      ]
     },
     "execution_count": 227,
     "metadata": {},
     "output_type": "execute_result"
    }
   ],
   "source": [
    "filter_2005.health.unique()"
   ]
  },
  {
   "cell_type": "code",
   "execution_count": 207,
   "id": "10ed42e8",
   "metadata": {
    "scrolled": true
   },
   "outputs": [
    {
     "data": {
      "text/plain": [
       "array(['Fair', 'Good', 'Poor', nan], dtype=object)"
      ]
     },
     "execution_count": 207,
     "metadata": {},
     "output_type": "execute_result"
    }
   ],
   "source": [
    "filter_2015.health.unique()"
   ]
  },
  {
   "cell_type": "code",
   "execution_count": 231,
   "id": "00a27645",
   "metadata": {},
   "outputs": [
    {
     "data": {
      "text/plain": [
       "array(['Alive', 'Stump', 'Dead'], dtype=object)"
      ]
     },
     "execution_count": 231,
     "metadata": {},
     "output_type": "execute_result"
    }
   ],
   "source": [
    "filter_2015.status.unique()"
   ]
  },
  {
   "cell_type": "code",
   "execution_count": 233,
   "id": "f7876621",
   "metadata": {},
   "outputs": [
    {
     "data": {
      "text/plain": [
       "57        NaN\n",
       "196       NaN\n",
       "209       NaN\n",
       "266       NaN\n",
       "285       NaN\n",
       "         ... \n",
       "682816    NaN\n",
       "682823    NaN\n",
       "683346    NaN\n",
       "683693    NaN\n",
       "683698    NaN\n",
       "Name: health, Length: 13959, dtype: object"
      ]
     },
     "execution_count": 233,
     "metadata": {},
     "output_type": "execute_result"
    }
   ],
   "source": [
    "filter_2015[filter_2015.status=='Dead']['health']"
   ]
  },
  {
   "cell_type": "code",
   "execution_count": 29,
   "id": "9c1e571e",
   "metadata": {
    "scrolled": true
   },
   "outputs": [
    {
     "data": {
      "text/plain": [
       "{nan, 1283.0, 23801.0, 23802.0, 61302.0, 64102.0, 65501.0}"
      ]
     },
     "execution_count": 29,
     "metadata": {},
     "output_type": "execute_result"
    }
   ],
   "source": [
    "set(data_1995.CensusTract_2010.unique()) - set(data_2015['census tract'].unique())\n"
   ]
  },
  {
   "cell_type": "code",
   "execution_count": 28,
   "id": "3520eb3c",
   "metadata": {},
   "outputs": [
    {
     "data": {
      "text/plain": [
       "{nan, 61302.0}"
      ]
     },
     "execution_count": 28,
     "metadata": {},
     "output_type": "execute_result"
    }
   ],
   "source": [
    "set(data_1995.CensusTract_2010.unique()) - set(data_2005['census tract'].unique())\n"
   ]
  },
  {
   "cell_type": "code",
   "execution_count": 27,
   "id": "ca8ff45e",
   "metadata": {
    "scrolled": true
   },
   "outputs": [
    {
     "data": {
      "text/plain": [
       "{nan, 852.0, 1180.0, 1283.0, 23801.0, 23802.0, 64102.0, 65501.0, 155101.0}"
      ]
     },
     "execution_count": 27,
     "metadata": {},
     "output_type": "execute_result"
    }
   ],
   "source": [
    "set(data_2005['census tract'].unique()) - set(data_2015['census tract'].unique())\n"
   ]
  },
  {
   "cell_type": "code",
   "execution_count": 41,
   "id": "e25a34b9",
   "metadata": {},
   "outputs": [
    {
     "data": {
      "text/plain": [
       "{nan, 793.0, 1210.0}"
      ]
     },
     "execution_count": 41,
     "metadata": {},
     "output_type": "execute_result"
    }
   ],
   "source": [
    "set(data_2015['census tract'].unique()) - set(data_2005['census tract'].unique())"
   ]
  },
  {
   "cell_type": "markdown",
   "id": "80491986",
   "metadata": {},
   "source": [
    "### Dataset Merge"
   ]
  },
  {
   "cell_type": "code",
   "execution_count": 97,
   "id": "c0650cf7",
   "metadata": {},
   "outputs": [],
   "source": [
    "data_2015 = pd.read_csv('2015_Street_Tree_Census.csv')\n",
    "data_nyc = pd.read_csv('nyc_income_age_ house_cost.csv')\n",
    "data_pop = pd.read_csv('nyc_zip_borough_neighborhoods_pop.csv')"
   ]
  },
  {
   "cell_type": "code",
   "execution_count": 98,
   "id": "2efead7d",
   "metadata": {},
   "outputs": [],
   "source": [
    "data_nyc = data_nyc.dropna()"
   ]
  },
  {
   "cell_type": "code",
   "execution_count": 99,
   "id": "0e8160f6",
   "metadata": {},
   "outputs": [],
   "source": [
    "data_2015 = data_2015.rename(columns={'census tract':'census_tract',\n",
    "                          'postcode':'zipcode',\n",
    "                          })\n",
    "filter_2015 = data_2015[['tree_id','address','borough','zipcode','census_tract',\n",
    "                        'latitude','longitude','tree_dbh','status','curb_loc',\n",
    "                        'health','guards', 'sidewalk', 'user_type', 'problems', \n",
    "                        'root_stone','root_grate', 'root_other', 'trunk_wire', \n",
    "                        'trnk_light', 'trnk_other','brch_light', 'brch_shoe', \n",
    "                        'brch_other','spc_latin','spc_common']]\n",
    "filter_2015 = filter_2015[filter_2015.zipcode != 83]\n",
    "filter_2015.health[filter_2015['status'].isin(['Stump','Dead'])]='Dead'"
   ]
  },
  {
   "cell_type": "code",
   "execution_count": 90,
   "id": "b1679ba1",
   "metadata": {},
   "outputs": [
    {
     "data": {
      "text/html": [
       "<div>\n",
       "<style scoped>\n",
       "    .dataframe tbody tr th:only-of-type {\n",
       "        vertical-align: middle;\n",
       "    }\n",
       "\n",
       "    .dataframe tbody tr th {\n",
       "        vertical-align: top;\n",
       "    }\n",
       "\n",
       "    .dataframe thead th {\n",
       "        text-align: right;\n",
       "    }\n",
       "</style>\n",
       "<table border=\"1\" class=\"dataframe\">\n",
       "  <thead>\n",
       "    <tr style=\"text-align: right;\">\n",
       "      <th></th>\n",
       "      <th>tree_id</th>\n",
       "    </tr>\n",
       "    <tr>\n",
       "      <th>health</th>\n",
       "      <th></th>\n",
       "    </tr>\n",
       "  </thead>\n",
       "  <tbody>\n",
       "    <tr>\n",
       "      <th>Dead</th>\n",
       "      <td>31612</td>\n",
       "    </tr>\n",
       "    <tr>\n",
       "      <th>Fair</th>\n",
       "      <td>96465</td>\n",
       "    </tr>\n",
       "    <tr>\n",
       "      <th>Good</th>\n",
       "      <td>527965</td>\n",
       "    </tr>\n",
       "    <tr>\n",
       "      <th>Poor</th>\n",
       "      <td>26810</td>\n",
       "    </tr>\n",
       "  </tbody>\n",
       "</table>\n",
       "</div>"
      ],
      "text/plain": [
       "        tree_id\n",
       "health         \n",
       "Dead      31612\n",
       "Fair      96465\n",
       "Good     527965\n",
       "Poor      26810"
      ]
     },
     "execution_count": 90,
     "metadata": {},
     "output_type": "execute_result"
    }
   ],
   "source": [
    "filter_2015.groupby('health').agg({\n",
    "    'tree_id':'count'\n",
    "})"
   ]
  },
  {
   "cell_type": "code",
   "execution_count": 100,
   "id": "208f52f2",
   "metadata": {},
   "outputs": [],
   "source": [
    "new_2015 = filter_2015[['tree_id','borough','zipcode','latitude','longitude','tree_dbh','spc_common','health']]"
   ]
  },
  {
   "cell_type": "code",
   "execution_count": 92,
   "id": "608afdf4",
   "metadata": {},
   "outputs": [],
   "source": [
    "new_2015 = new_2015.dropna()"
   ]
  },
  {
   "cell_type": "code",
   "execution_count": 101,
   "id": "c8b6d4b6",
   "metadata": {},
   "outputs": [
    {
     "data": {
      "text/plain": [
       "(682853, 8)"
      ]
     },
     "execution_count": 101,
     "metadata": {},
     "output_type": "execute_result"
    }
   ],
   "source": [
    "new_2015.shape"
   ]
  },
  {
   "cell_type": "code",
   "execution_count": 94,
   "id": "deef507e",
   "metadata": {},
   "outputs": [
    {
     "data": {
      "text/html": [
       "<div>\n",
       "<style scoped>\n",
       "    .dataframe tbody tr th:only-of-type {\n",
       "        vertical-align: middle;\n",
       "    }\n",
       "\n",
       "    .dataframe tbody tr th {\n",
       "        vertical-align: top;\n",
       "    }\n",
       "\n",
       "    .dataframe thead th {\n",
       "        text-align: right;\n",
       "    }\n",
       "</style>\n",
       "<table border=\"1\" class=\"dataframe\">\n",
       "  <thead>\n",
       "    <tr style=\"text-align: right;\">\n",
       "      <th></th>\n",
       "      <th>tree_id</th>\n",
       "    </tr>\n",
       "    <tr>\n",
       "      <th>health</th>\n",
       "      <th></th>\n",
       "    </tr>\n",
       "  </thead>\n",
       "  <tbody>\n",
       "    <tr>\n",
       "      <th>Dead</th>\n",
       "      <td>1</td>\n",
       "    </tr>\n",
       "    <tr>\n",
       "      <th>Fair</th>\n",
       "      <td>96465</td>\n",
       "    </tr>\n",
       "    <tr>\n",
       "      <th>Good</th>\n",
       "      <td>527961</td>\n",
       "    </tr>\n",
       "    <tr>\n",
       "      <th>Poor</th>\n",
       "      <td>26809</td>\n",
       "    </tr>\n",
       "  </tbody>\n",
       "</table>\n",
       "</div>"
      ],
      "text/plain": [
       "        tree_id\n",
       "health         \n",
       "Dead          1\n",
       "Fair      96465\n",
       "Good     527961\n",
       "Poor      26809"
      ]
     },
     "execution_count": 94,
     "metadata": {},
     "output_type": "execute_result"
    }
   ],
   "source": [
    "new_2015.groupby('health').agg({\n",
    "    'tree_id':'count'\n",
    "})"
   ]
  },
  {
   "cell_type": "code",
   "execution_count": 121,
   "id": "326ca681",
   "metadata": {},
   "outputs": [
    {
     "data": {
      "text/plain": [
       "{10020,\n",
       " 10048,\n",
       " 10111,\n",
       " 10115,\n",
       " 10128,\n",
       " 10281,\n",
       " 11001,\n",
       " 11005,\n",
       " 11040,\n",
       " 11096,\n",
       " 11249,\n",
       " 11251,\n",
       " 11371,\n",
       " 11430,\n",
       " 11451}"
      ]
     },
     "execution_count": 121,
     "metadata": {},
     "output_type": "execute_result"
    }
   ],
   "source": [
    "(set(new_2015.zipcode.unique())-set(data_pop.zip.unique())) |(set(new_2015.zipcode.unique())-set(data_nyc.zipcode.unique()))\n"
   ]
  },
  {
   "cell_type": "code",
   "execution_count": 122,
   "id": "a0c7ade3",
   "metadata": {},
   "outputs": [
    {
     "name": "stdout",
     "output_type": "stream",
     "text": [
      "190\n",
      "180\n",
      "177\n"
     ]
    }
   ],
   "source": [
    "print(len(new_2015.zipcode.unique()))\n",
    "print(len(data_nyc.zipcode.unique()))\n",
    "print(len(data_pop.zip.unique()))"
   ]
  },
  {
   "cell_type": "code",
   "execution_count": 102,
   "id": "4cdca3db",
   "metadata": {},
   "outputs": [
    {
     "data": {
      "text/plain": [
       "(677051, 11)"
      ]
     },
     "execution_count": 102,
     "metadata": {},
     "output_type": "execute_result"
    }
   ],
   "source": [
    "new_2015 = pd.merge(new_2015, data_nyc, on='zipcode',how='inner')\n",
    "new_2015.shape"
   ]
  },
  {
   "cell_type": "code",
   "execution_count": 103,
   "id": "c9174039",
   "metadata": {},
   "outputs": [
    {
     "data": {
      "text/plain": [
       "(675981, 16)"
      ]
     },
     "execution_count": 103,
     "metadata": {},
     "output_type": "execute_result"
    }
   ],
   "source": [
    "new_2015 = pd.merge(new_2015, data_pop.drop(columns=['borough']), left_on='zipcode',right_on='zip',how='inner')\n",
    "new_2015.shape"
   ]
  },
  {
   "cell_type": "code",
   "execution_count": 104,
   "id": "bc332940",
   "metadata": {},
   "outputs": [],
   "source": [
    "new_2015 = new_2015.drop(columns=['zip'])"
   ]
  },
  {
   "cell_type": "code",
   "execution_count": 105,
   "id": "be422437",
   "metadata": {},
   "outputs": [
    {
     "data": {
      "text/plain": [
       "Index(['tree_id', 'borough', 'zipcode', 'latitude', 'longitude', 'tree_dbh',\n",
       "       'spc_common', 'health', 'Median_Individual_Income',\n",
       "       'Median_Resident_Age', 'Median_Monthly_House_Cost', 'post_office',\n",
       "       'neighborhood', 'population', 'density'],\n",
       "      dtype='object')"
      ]
     },
     "execution_count": 105,
     "metadata": {},
     "output_type": "execute_result"
    }
   ],
   "source": [
    "new_2015.columns"
   ]
  },
  {
   "cell_type": "code",
   "execution_count": 106,
   "id": "be721199",
   "metadata": {},
   "outputs": [
    {
     "data": {
      "text/plain": [
       "tree_id                      False\n",
       "borough                      False\n",
       "zipcode                      False\n",
       "latitude                     False\n",
       "longitude                    False\n",
       "tree_dbh                     False\n",
       "spc_common                    True\n",
       "health                        True\n",
       "Median_Individual_Income     False\n",
       "Median_Resident_Age          False\n",
       "Median_Monthly_House_Cost    False\n",
       "post_office                  False\n",
       "neighborhood                 False\n",
       "population                   False\n",
       "density                      False\n",
       "dtype: bool"
      ]
     },
     "execution_count": 106,
     "metadata": {},
     "output_type": "execute_result"
    }
   ],
   "source": [
    "new_2015.isna().any()"
   ]
  },
  {
   "cell_type": "code",
   "execution_count": 108,
   "id": "ad9d3185",
   "metadata": {},
   "outputs": [],
   "source": [
    "# new_2015.to_csv('2015_tree_dead.csv',index=False)\n",
    "df = df = pd.read_csv('2015_tree_dead.csv')"
   ]
  },
  {
   "cell_type": "code",
   "execution_count": 132,
   "id": "1ecbb725",
   "metadata": {},
   "outputs": [],
   "source": [
    "new_2015.to_csv('2015_tree_zipcond.csv',index=False)"
   ]
  },
  {
   "cell_type": "code",
   "execution_count": 351,
   "id": "c4235a3e",
   "metadata": {},
   "outputs": [],
   "source": [
    "df = pd.read_csv('2015_tree_zipcond.csv')"
   ]
  },
  {
   "cell_type": "code",
   "execution_count": 113,
   "id": "8e5731dd",
   "metadata": {},
   "outputs": [],
   "source": [
    "df = df.dropna(subset=['health'])"
   ]
  },
  {
   "cell_type": "code",
   "execution_count": 114,
   "id": "ba3d3efb",
   "metadata": {},
   "outputs": [
    {
     "data": {
      "text/plain": [
       "(675980, 15)"
      ]
     },
     "execution_count": 114,
     "metadata": {},
     "output_type": "execute_result"
    }
   ],
   "source": [
    "df.shape"
   ]
  },
  {
   "cell_type": "code",
   "execution_count": 353,
   "id": "8662847c",
   "metadata": {},
   "outputs": [
    {
     "data": {
      "text/plain": [
       "Index(['tree_id', 'borough', 'zipcode', 'latitude', 'longitude', 'tree_dbh',\n",
       "       'spc_common', 'health', 'Median_Individual_Income',\n",
       "       'Median_Resident_Age', 'Median_Monthly_House_Cost', 'post_office',\n",
       "       'neighborhood', 'population', 'density', 'family'],\n",
       "      dtype='object')"
      ]
     },
     "execution_count": 353,
     "metadata": {},
     "output_type": "execute_result"
    }
   ],
   "source": [
    "df.columns"
   ]
  },
  {
   "cell_type": "code",
   "execution_count": 354,
   "id": "302b042e",
   "metadata": {},
   "outputs": [
    {
     "data": {
      "text/plain": [
       "tree_id                      False\n",
       "borough                      False\n",
       "zipcode                      False\n",
       "latitude                     False\n",
       "longitude                    False\n",
       "tree_dbh                     False\n",
       "spc_common                   False\n",
       "health                       False\n",
       "Median_Individual_Income     False\n",
       "Median_Resident_Age          False\n",
       "Median_Monthly_House_Cost    False\n",
       "post_office                  False\n",
       "neighborhood                 False\n",
       "population                   False\n",
       "density                      False\n",
       "family                       False\n",
       "dtype: bool"
      ]
     },
     "execution_count": 354,
     "metadata": {},
     "output_type": "execute_result"
    }
   ],
   "source": [
    "df.isna().any()"
   ]
  },
  {
   "cell_type": "code",
   "execution_count": 304,
   "id": "e6dc6f51",
   "metadata": {},
   "outputs": [],
   "source": [
    "family={}\n",
    "family['Aceraceae'] = family.get('Aceraceae',list())+list(maple)\n",
    "family['Rosaceae'] = family.get('Rosaceae',list())+list(cherry)+list(ash)+list(hawthorn)+['Callery pear',\n",
    "                                                                                  'crab apple',\n",
    "                                                                                  'purple-leaf plum',\n",
    "                                                                                  'serviceberry']\n",
    "family['Fagaceae'] = family.get('Fagaceae',list())+list(oak)+list(beech)+list(chestnut)\n",
    "family['Pinaceae'] = family.get('Pinaceae',list())+list(pine)+list(spruce)+['American larch',\n",
    "                                                                    'Douglas-fir',\n",
    "                                                                    'eastern hemlock']\n",
    "family['Ulmaceae'] = family.get('Ulmaceae',list())+list(elm)+['Japanese zelkova']\n",
    "family['Cupressacea'] = family.get('Cupressacea',list())+list(cedar)+list(cypress)\n",
    "family['Oleaceae'] = family.get('Oleaceae',list())+list(lilac)+['Chinese fringetree']\n",
    "family['Magnoliaceae'] = family.get('Magnoliaceae',list())+list(magnolia)+['tulip-poplar']\n",
    "family['Betulaceae'] = family.get('Betulaceae',list())+list(birch)+list(hornbeam)+['European alder',\n",
    "                                                                         'Turkish hazelnut']\n",
    "family['Tiliaceae'] = family.get('Tiliaceae',list())+list(linden)\n",
    "family['Salixaceae'] = family.get('Salixaceae',list())+list(aspen)+['weeping willow',\n",
    "                                                            'eastern cottonwood']\n",
    "family['Rutaceae'] = family.get('Rutaceae',list())+['Amur cork tree']\n",
    "family['Fabaceae'] = family.get('Fabaceae',list())+list(redbud)+list(locust)+['Amur maackia',\n",
    "                                                                              'Kentucky coffeetree',\n",
    "                                                                              'Kentucky yellowwood',\n",
    "                                                                              'Sophora',\n",
    "                                                                              'mimosa']\n",
    "family['Styracaceae'] = family.get('Styracaceae',list())+['Japanese snowbell',\n",
    "                                                          'two-winged silverbell']\n",
    "family['Platanaceae'] = family.get('Platanaceae',list())+['London planetree']\n",
    "family['Sapindaceae'] = family.get('Sapindaceae',list())+['Ohio buckeye',\n",
    "                                                          'boxelder',\n",
    "                                                          'golden raintree']\n",
    "family['Moraceae'] = family.get('Moraceae',list())+['Osage-orange',\n",
    "                                                    'mulberry']\n",
    "family['Hamamelidaceae'] = family.get('Hamamelidaceae',list())+['Persian ironwood']\n",
    "family['Cupressaceae'] = family.get('Cupressaceae',list())+['arborvitae',\n",
    "                                                            'dawn redwood']\n",
    "family['Juglandaceae'] = family.get('Juglandaceae',list())+['black walnut',\n",
    "                                                            'pignut hickory']\n",
    "family['Nyssaceae'] = family.get('Nyssaceae',list())+['blackgum']\n",
    "family['Bignoniaceae'] = family.get('Bignoniaceae',list())+['catalpa']\n",
    "family['Cannabaceae'] = family.get('Cannabaceae',list())+['common hackberry']\n",
    "family['Lythraceae'] = family.get('Lythraceae',list())+['crepe myrtle']\n",
    "family['Paulowniaceae'] = family.get('Paulowniaceae',list())+['empress tree']\n",
    "family['Cornaceae'] = family.get('Cornaceae',list())+['flowering dogwood',\n",
    "                                                      'kousa dogwood',\n",
    "                                                      'pagoda dogwood']\n",
    "family['Ginkgoaceae'] = family.get('Ginkgoaceae',list())+['ginkgo']\n",
    "\n",
    "\n",
    "family['Eucommiaceae'] = family.get('Eucommiaceae',list())+['hardy rubber tree']\n",
    "family['Aquifoliaceae'] = family.get('Aquifoliaceae',list())+['holly']\n",
    "family['Cercidiphyllaceae'] = family.get('Cercidiphyllaceae',list())+['katsura tree']\n",
    "family['Lauraceae'] = family.get('Lauraceae',list())+['sassafras']\n",
    "family['Anacardiaceae'] = family.get('Anacardiaceae',list())+['smoketree']\n",
    "family['Altingiaceae'] = family.get('Altingiaceae',list())+['sweetgum']\n",
    "family['Simaroubaceae'] = family.get('Simaroubaceae',list())+['tree of heaven']\n",
    "\n"
   ]
  },
  {
   "cell_type": "code",
   "execution_count": 318,
   "id": "048eb378",
   "metadata": {
    "scrolled": true
   },
   "outputs": [],
   "source": [
    "leng=0\n",
    "for k,v in family.items():\n",
    "    leng = leng+len(v)"
   ]
  },
  {
   "cell_type": "code",
   "execution_count": 319,
   "id": "fd0dc73c",
   "metadata": {},
   "outputs": [
    {
     "data": {
      "text/plain": [
       "132"
      ]
     },
     "execution_count": 319,
     "metadata": {},
     "output_type": "execute_result"
    }
   ],
   "source": [
    "leng"
   ]
  },
  {
   "cell_type": "code",
   "execution_count": 355,
   "id": "96e3bd42",
   "metadata": {},
   "outputs": [
    {
     "data": {
      "text/plain": [
       "34"
      ]
     },
     "execution_count": 355,
     "metadata": {},
     "output_type": "execute_result"
    }
   ],
   "source": [
    "len(family)"
   ]
  },
  {
   "cell_type": "code",
   "execution_count": 321,
   "id": "f2b4730f",
   "metadata": {},
   "outputs": [
    {
     "data": {
      "text/plain": [
       "{'Aceraceae': ['Shantung maple',\n",
       "  'crimson king maple',\n",
       "  'silver maple',\n",
       "  'sugar maple',\n",
       "  'black maple',\n",
       "  'sycamore maple',\n",
       "  'Amur maple',\n",
       "  'red maple',\n",
       "  'paperbark maple',\n",
       "  'maple',\n",
       "  'tartar maple',\n",
       "  'trident maple',\n",
       "  'hedge maple',\n",
       "  'Japanese maple',\n",
       "  'Norway maple'],\n",
       " 'Rosaceae': ['black cherry',\n",
       "  'Cornelian cherry',\n",
       "  'cherry',\n",
       "  \"'Schubert' chokecherry\",\n",
       "  'ash',\n",
       "  'green ash',\n",
       "  'white ash',\n",
       "  'hawthorn',\n",
       "  'cockspur hawthorn',\n",
       "  'Callery pear',\n",
       "  'crab apple',\n",
       "  'purple-leaf plum',\n",
       "  'serviceberry'],\n",
       " 'Fagaceae': ['northern red oak',\n",
       "  'pin oak',\n",
       "  'English oak',\n",
       "  'swamp white oak',\n",
       "  'bur oak',\n",
       "  'white oak',\n",
       "  'black oak',\n",
       "  'sawtooth oak',\n",
       "  'willow oak',\n",
       "  \"Schumard's oak\",\n",
       "  'scarlet oak',\n",
       "  'shingle oak',\n",
       "  'southern red oak',\n",
       "  'European beech',\n",
       "  'American beech',\n",
       "  'red horse chestnut',\n",
       "  'horse chestnut',\n",
       "  'Chinese chestnut'],\n",
       " 'Pinaceae': ['red pine',\n",
       "  'Virginia pine',\n",
       "  'pitch pine',\n",
       "  'pine',\n",
       "  'black pine',\n",
       "  'white pine',\n",
       "  'Scots pine',\n",
       "  'blue spruce',\n",
       "  'spruce',\n",
       "  'Norway spruce',\n",
       "  'American larch',\n",
       "  'Douglas-fir',\n",
       "  'eastern hemlock'],\n",
       " 'Ulmaceae': ['Siberian elm',\n",
       "  'Chinese elm',\n",
       "  'American elm',\n",
       "  'Japanese zelkova'],\n",
       " 'Cupressacea': ['Atlantic white cedar',\n",
       "  'eastern redcedar',\n",
       "  'Himalayan cedar',\n",
       "  'Atlas cedar',\n",
       "  'bald cypress',\n",
       "  'pond cypress',\n",
       "  'false cypress'],\n",
       " 'Oleaceae': ['Chinese tree lilac',\n",
       "  'Japanese tree lilac',\n",
       "  'Chinese fringetree'],\n",
       " 'Magnoliaceae': ['southern magnolia',\n",
       "  'cucumber magnolia',\n",
       "  'magnolia',\n",
       "  'tulip-poplar'],\n",
       " 'Betulaceae': ['river birch',\n",
       "  'paper birch',\n",
       "  'silver birch',\n",
       "  'American hophornbeam',\n",
       "  'European hornbeam',\n",
       "  'American hornbeam',\n",
       "  'Japanese hornbeam',\n",
       "  'European alder',\n",
       "  'Turkish hazelnut'],\n",
       " 'Tiliaceae': ['littleleaf linden', 'silver linden', 'American linden'],\n",
       " 'Salixaceae': ['bigtooth aspen',\n",
       "  'quaking aspen',\n",
       "  'weeping willow',\n",
       "  'eastern cottonwood'],\n",
       " 'Rutaceae': ['Amur cork tree'],\n",
       " 'Fabaceae': ['eastern redbud',\n",
       "  'Oklahoma redbud',\n",
       "  'honeylocust',\n",
       "  'black locust',\n",
       "  'Amur maackia',\n",
       "  'Kentucky coffeetree',\n",
       "  'Kentucky yellowwood',\n",
       "  'Sophora',\n",
       "  'mimosa'],\n",
       " 'Styracaceae': ['Japanese snowbell', 'two-winged silverbell'],\n",
       " 'Platanaceae': ['London planetree'],\n",
       " 'Sapindaceae': ['Ohio buckeye', 'boxelder', 'golden raintree'],\n",
       " 'Moraceae': ['Osage-orange', 'mulberry'],\n",
       " 'Hamamelidaceae': ['Persian ironwood'],\n",
       " 'Cupressaceae': ['arborvitae', 'dawn redwood'],\n",
       " 'Juglandaceae': ['black walnut', 'pignut hickory'],\n",
       " 'Nyssaceae': ['blackgum'],\n",
       " 'Bignoniaceae': ['catalpa'],\n",
       " 'Cannabaceae': ['common hackberry'],\n",
       " 'Lythraceae': ['crepe myrtle'],\n",
       " 'Paulowniaceae': ['empress tree'],\n",
       " 'Cornaceae': ['flowering dogwood', 'kousa dogwood', 'pagoda dogwood'],\n",
       " 'Ginkgoaceae': ['ginkgo'],\n",
       " 'Eucommiaceae': ['hardy rubber tree'],\n",
       " 'Aquifoliaceae': ['holly'],\n",
       " 'Cercidiphyllaceae': ['katsura tree'],\n",
       " 'Lauraceae': ['sassafras'],\n",
       " 'Anacardiaceae': ['smoketree'],\n",
       " 'Altingiaceae': ['sweetgum'],\n",
       " 'Simaroubaceae': ['tree of heaven']}"
      ]
     },
     "execution_count": 321,
     "metadata": {},
     "output_type": "execute_result"
    }
   ],
   "source": [
    "family"
   ]
  },
  {
   "cell_type": "code",
   "execution_count": 120,
   "id": "a715bd1e",
   "metadata": {},
   "outputs": [],
   "source": [
    "import pickle"
   ]
  },
  {
   "cell_type": "code",
   "execution_count": 129,
   "id": "fc6571b9",
   "metadata": {},
   "outputs": [],
   "source": [
    "with open('tree_family.pkl','wb') as f:\n",
    "    pickle.dump(family,f)"
   ]
  },
  {
   "cell_type": "code",
   "execution_count": 121,
   "id": "1ccd41b2",
   "metadata": {},
   "outputs": [],
   "source": [
    "with open('tree_family.pkl','rb') as f:\n",
    "    family = pickle.load(f)"
   ]
  },
  {
   "cell_type": "code",
   "execution_count": 116,
   "id": "815cfe09",
   "metadata": {},
   "outputs": [
    {
     "data": {
      "text/html": [
       "<div>\n",
       "<style scoped>\n",
       "    .dataframe tbody tr th:only-of-type {\n",
       "        vertical-align: middle;\n",
       "    }\n",
       "\n",
       "    .dataframe tbody tr th {\n",
       "        vertical-align: top;\n",
       "    }\n",
       "\n",
       "    .dataframe thead th {\n",
       "        text-align: right;\n",
       "    }\n",
       "</style>\n",
       "<table border=\"1\" class=\"dataframe\">\n",
       "  <thead>\n",
       "    <tr style=\"text-align: right;\">\n",
       "      <th></th>\n",
       "      <th>tree_id</th>\n",
       "      <th>borough</th>\n",
       "      <th>zipcode</th>\n",
       "      <th>latitude</th>\n",
       "      <th>longitude</th>\n",
       "      <th>tree_dbh</th>\n",
       "      <th>spc_common</th>\n",
       "      <th>health</th>\n",
       "      <th>Median_Individual_Income</th>\n",
       "      <th>Median_Resident_Age</th>\n",
       "      <th>Median_Monthly_House_Cost</th>\n",
       "      <th>post_office</th>\n",
       "      <th>neighborhood</th>\n",
       "      <th>population</th>\n",
       "      <th>density</th>\n",
       "    </tr>\n",
       "  </thead>\n",
       "  <tbody>\n",
       "    <tr>\n",
       "      <th>0</th>\n",
       "      <td>180683</td>\n",
       "      <td>Queens</td>\n",
       "      <td>11375</td>\n",
       "      <td>40.723092</td>\n",
       "      <td>-73.844215</td>\n",
       "      <td>3</td>\n",
       "      <td>red maple</td>\n",
       "      <td>Fair</td>\n",
       "      <td>84617.0</td>\n",
       "      <td>43.5</td>\n",
       "      <td>1570.0</td>\n",
       "      <td>Forest Hills, NY</td>\n",
       "      <td>West Central Queens</td>\n",
       "      <td>68733</td>\n",
       "      <td>34707</td>\n",
       "    </tr>\n",
       "    <tr>\n",
       "      <th>1</th>\n",
       "      <td>203550</td>\n",
       "      <td>Queens</td>\n",
       "      <td>11375</td>\n",
       "      <td>40.713170</td>\n",
       "      <td>-73.854446</td>\n",
       "      <td>42</td>\n",
       "      <td>London planetree</td>\n",
       "      <td>Good</td>\n",
       "      <td>84617.0</td>\n",
       "      <td>43.5</td>\n",
       "      <td>1570.0</td>\n",
       "      <td>Forest Hills, NY</td>\n",
       "      <td>West Central Queens</td>\n",
       "      <td>68733</td>\n",
       "      <td>34707</td>\n",
       "    </tr>\n",
       "    <tr>\n",
       "      <th>2</th>\n",
       "      <td>193183</td>\n",
       "      <td>Queens</td>\n",
       "      <td>11375</td>\n",
       "      <td>40.717032</td>\n",
       "      <td>-73.838297</td>\n",
       "      <td>3</td>\n",
       "      <td>Amur maple</td>\n",
       "      <td>Good</td>\n",
       "      <td>84617.0</td>\n",
       "      <td>43.5</td>\n",
       "      <td>1570.0</td>\n",
       "      <td>Forest Hills, NY</td>\n",
       "      <td>West Central Queens</td>\n",
       "      <td>68733</td>\n",
       "      <td>34707</td>\n",
       "    </tr>\n",
       "    <tr>\n",
       "      <th>3</th>\n",
       "      <td>203577</td>\n",
       "      <td>Queens</td>\n",
       "      <td>11375</td>\n",
       "      <td>40.712480</td>\n",
       "      <td>-73.855020</td>\n",
       "      <td>26</td>\n",
       "      <td>London planetree</td>\n",
       "      <td>Good</td>\n",
       "      <td>84617.0</td>\n",
       "      <td>43.5</td>\n",
       "      <td>1570.0</td>\n",
       "      <td>Forest Hills, NY</td>\n",
       "      <td>West Central Queens</td>\n",
       "      <td>68733</td>\n",
       "      <td>34707</td>\n",
       "    </tr>\n",
       "    <tr>\n",
       "      <th>4</th>\n",
       "      <td>203386</td>\n",
       "      <td>Queens</td>\n",
       "      <td>11375</td>\n",
       "      <td>40.712641</td>\n",
       "      <td>-73.852138</td>\n",
       "      <td>26</td>\n",
       "      <td>London planetree</td>\n",
       "      <td>Good</td>\n",
       "      <td>84617.0</td>\n",
       "      <td>43.5</td>\n",
       "      <td>1570.0</td>\n",
       "      <td>Forest Hills, NY</td>\n",
       "      <td>West Central Queens</td>\n",
       "      <td>68733</td>\n",
       "      <td>34707</td>\n",
       "    </tr>\n",
       "  </tbody>\n",
       "</table>\n",
       "</div>"
      ],
      "text/plain": [
       "   tree_id borough  zipcode   latitude  longitude  tree_dbh        spc_common  \\\n",
       "0   180683  Queens    11375  40.723092 -73.844215         3         red maple   \n",
       "1   203550  Queens    11375  40.713170 -73.854446        42  London planetree   \n",
       "2   193183  Queens    11375  40.717032 -73.838297         3        Amur maple   \n",
       "3   203577  Queens    11375  40.712480 -73.855020        26  London planetree   \n",
       "4   203386  Queens    11375  40.712641 -73.852138        26  London planetree   \n",
       "\n",
       "  health  Median_Individual_Income  Median_Resident_Age  \\\n",
       "0   Fair                   84617.0                 43.5   \n",
       "1   Good                   84617.0                 43.5   \n",
       "2   Good                   84617.0                 43.5   \n",
       "3   Good                   84617.0                 43.5   \n",
       "4   Good                   84617.0                 43.5   \n",
       "\n",
       "   Median_Monthly_House_Cost       post_office         neighborhood  \\\n",
       "0                     1570.0  Forest Hills, NY  West Central Queens   \n",
       "1                     1570.0  Forest Hills, NY  West Central Queens   \n",
       "2                     1570.0  Forest Hills, NY  West Central Queens   \n",
       "3                     1570.0  Forest Hills, NY  West Central Queens   \n",
       "4                     1570.0  Forest Hills, NY  West Central Queens   \n",
       "\n",
       "   population  density  \n",
       "0       68733    34707  \n",
       "1       68733    34707  \n",
       "2       68733    34707  \n",
       "3       68733    34707  \n",
       "4       68733    34707  "
      ]
     },
     "execution_count": 116,
     "metadata": {},
     "output_type": "execute_result"
    }
   ],
   "source": [
    "new_2015.head()"
   ]
  },
  {
   "cell_type": "code",
   "execution_count": 341,
   "id": "1e0e055c",
   "metadata": {},
   "outputs": [
    {
     "data": {
      "text/plain": [
       "['Aceraceae']"
      ]
     },
     "execution_count": 341,
     "metadata": {},
     "output_type": "execute_result"
    }
   ],
   "source": [
    "[k for k,v in family.items() if 'red maple' in v]"
   ]
  },
  {
   "cell_type": "code",
   "execution_count": 122,
   "id": "23423ee6",
   "metadata": {},
   "outputs": [],
   "source": [
    "tree_map = {}\n",
    "for k,v in family.items():\n",
    "    for item in v:\n",
    "        tree_map[item]=k"
   ]
  },
  {
   "cell_type": "code",
   "execution_count": 123,
   "id": "68b9956d",
   "metadata": {},
   "outputs": [
    {
     "data": {
      "text/plain": [
       "132"
      ]
     },
     "execution_count": 123,
     "metadata": {},
     "output_type": "execute_result"
    }
   ],
   "source": [
    "len(tree_map)"
   ]
  },
  {
   "cell_type": "code",
   "execution_count": 124,
   "id": "8928a6cc",
   "metadata": {},
   "outputs": [],
   "source": [
    "tree_map[np.nan]=np.nan"
   ]
  },
  {
   "cell_type": "code",
   "execution_count": 125,
   "id": "7d2ca4d0",
   "metadata": {},
   "outputs": [],
   "source": [
    "new_2015['family'] = new_2015.apply(lambda x: tree_map[x['spc_common']],\n",
    "                                    axis=1)\n"
   ]
  },
  {
   "cell_type": "code",
   "execution_count": 127,
   "id": "b5d61339",
   "metadata": {},
   "outputs": [
    {
     "data": {
      "text/html": [
       "<div>\n",
       "<style scoped>\n",
       "    .dataframe tbody tr th:only-of-type {\n",
       "        vertical-align: middle;\n",
       "    }\n",
       "\n",
       "    .dataframe tbody tr th {\n",
       "        vertical-align: top;\n",
       "    }\n",
       "\n",
       "    .dataframe thead th {\n",
       "        text-align: right;\n",
       "    }\n",
       "</style>\n",
       "<table border=\"1\" class=\"dataframe\">\n",
       "  <thead>\n",
       "    <tr style=\"text-align: right;\">\n",
       "      <th></th>\n",
       "      <th>tree_id</th>\n",
       "      <th>borough</th>\n",
       "      <th>zipcode</th>\n",
       "      <th>latitude</th>\n",
       "      <th>longitude</th>\n",
       "      <th>tree_dbh</th>\n",
       "      <th>spc_common</th>\n",
       "      <th>health</th>\n",
       "      <th>Median_Individual_Income</th>\n",
       "      <th>Median_Resident_Age</th>\n",
       "      <th>Median_Monthly_House_Cost</th>\n",
       "      <th>post_office</th>\n",
       "      <th>neighborhood</th>\n",
       "      <th>population</th>\n",
       "      <th>density</th>\n",
       "      <th>family</th>\n",
       "    </tr>\n",
       "  </thead>\n",
       "  <tbody>\n",
       "    <tr>\n",
       "      <th>21</th>\n",
       "      <td>179748</td>\n",
       "      <td>Queens</td>\n",
       "      <td>11375</td>\n",
       "      <td>40.721514</td>\n",
       "      <td>-73.836307</td>\n",
       "      <td>20</td>\n",
       "      <td>NaN</td>\n",
       "      <td>Dead</td>\n",
       "      <td>84617.0</td>\n",
       "      <td>43.5</td>\n",
       "      <td>1570.0</td>\n",
       "      <td>Forest Hills, NY</td>\n",
       "      <td>West Central Queens</td>\n",
       "      <td>68733</td>\n",
       "      <td>34707</td>\n",
       "      <td>NaN</td>\n",
       "    </tr>\n",
       "    <tr>\n",
       "      <th>25</th>\n",
       "      <td>180619</td>\n",
       "      <td>Queens</td>\n",
       "      <td>11375</td>\n",
       "      <td>40.725300</td>\n",
       "      <td>-73.839376</td>\n",
       "      <td>0</td>\n",
       "      <td>NaN</td>\n",
       "      <td>Dead</td>\n",
       "      <td>84617.0</td>\n",
       "      <td>43.5</td>\n",
       "      <td>1570.0</td>\n",
       "      <td>Forest Hills, NY</td>\n",
       "      <td>West Central Queens</td>\n",
       "      <td>68733</td>\n",
       "      <td>34707</td>\n",
       "      <td>NaN</td>\n",
       "    </tr>\n",
       "    <tr>\n",
       "      <th>64</th>\n",
       "      <td>193184</td>\n",
       "      <td>Queens</td>\n",
       "      <td>11375</td>\n",
       "      <td>40.717028</td>\n",
       "      <td>-73.838292</td>\n",
       "      <td>4</td>\n",
       "      <td>NaN</td>\n",
       "      <td>Dead</td>\n",
       "      <td>84617.0</td>\n",
       "      <td>43.5</td>\n",
       "      <td>1570.0</td>\n",
       "      <td>Forest Hills, NY</td>\n",
       "      <td>West Central Queens</td>\n",
       "      <td>68733</td>\n",
       "      <td>34707</td>\n",
       "      <td>NaN</td>\n",
       "    </tr>\n",
       "    <tr>\n",
       "      <th>92</th>\n",
       "      <td>211702</td>\n",
       "      <td>Queens</td>\n",
       "      <td>11375</td>\n",
       "      <td>40.709146</td>\n",
       "      <td>-73.845436</td>\n",
       "      <td>0</td>\n",
       "      <td>NaN</td>\n",
       "      <td>Dead</td>\n",
       "      <td>84617.0</td>\n",
       "      <td>43.5</td>\n",
       "      <td>1570.0</td>\n",
       "      <td>Forest Hills, NY</td>\n",
       "      <td>West Central Queens</td>\n",
       "      <td>68733</td>\n",
       "      <td>34707</td>\n",
       "      <td>NaN</td>\n",
       "    </tr>\n",
       "    <tr>\n",
       "      <th>93</th>\n",
       "      <td>171766</td>\n",
       "      <td>Queens</td>\n",
       "      <td>11375</td>\n",
       "      <td>40.723721</td>\n",
       "      <td>-73.839180</td>\n",
       "      <td>0</td>\n",
       "      <td>NaN</td>\n",
       "      <td>Dead</td>\n",
       "      <td>84617.0</td>\n",
       "      <td>43.5</td>\n",
       "      <td>1570.0</td>\n",
       "      <td>Forest Hills, NY</td>\n",
       "      <td>West Central Queens</td>\n",
       "      <td>68733</td>\n",
       "      <td>34707</td>\n",
       "      <td>NaN</td>\n",
       "    </tr>\n",
       "    <tr>\n",
       "      <th>...</th>\n",
       "      <td>...</td>\n",
       "      <td>...</td>\n",
       "      <td>...</td>\n",
       "      <td>...</td>\n",
       "      <td>...</td>\n",
       "      <td>...</td>\n",
       "      <td>...</td>\n",
       "      <td>...</td>\n",
       "      <td>...</td>\n",
       "      <td>...</td>\n",
       "      <td>...</td>\n",
       "      <td>...</td>\n",
       "      <td>...</td>\n",
       "      <td>...</td>\n",
       "      <td>...</td>\n",
       "      <td>...</td>\n",
       "    </tr>\n",
       "    <tr>\n",
       "      <th>675880</th>\n",
       "      <td>75763</td>\n",
       "      <td>Manhattan</td>\n",
       "      <td>10006</td>\n",
       "      <td>40.708478</td>\n",
       "      <td>-74.012388</td>\n",
       "      <td>4</td>\n",
       "      <td>NaN</td>\n",
       "      <td>Dead</td>\n",
       "      <td>179044.0</td>\n",
       "      <td>33.9</td>\n",
       "      <td>3215.0</td>\n",
       "      <td>New York, NY</td>\n",
       "      <td>Lower Manhattan</td>\n",
       "      <td>3011</td>\n",
       "      <td>32796</td>\n",
       "      <td>NaN</td>\n",
       "    </tr>\n",
       "    <tr>\n",
       "      <th>675881</th>\n",
       "      <td>76128</td>\n",
       "      <td>Manhattan</td>\n",
       "      <td>10006</td>\n",
       "      <td>40.705507</td>\n",
       "      <td>-74.015389</td>\n",
       "      <td>2</td>\n",
       "      <td>NaN</td>\n",
       "      <td>Dead</td>\n",
       "      <td>179044.0</td>\n",
       "      <td>33.9</td>\n",
       "      <td>3215.0</td>\n",
       "      <td>New York, NY</td>\n",
       "      <td>Lower Manhattan</td>\n",
       "      <td>3011</td>\n",
       "      <td>32796</td>\n",
       "      <td>NaN</td>\n",
       "    </tr>\n",
       "    <tr>\n",
       "      <th>675886</th>\n",
       "      <td>76391</td>\n",
       "      <td>Manhattan</td>\n",
       "      <td>10006</td>\n",
       "      <td>40.709133</td>\n",
       "      <td>-74.013974</td>\n",
       "      <td>2</td>\n",
       "      <td>NaN</td>\n",
       "      <td>Dead</td>\n",
       "      <td>179044.0</td>\n",
       "      <td>33.9</td>\n",
       "      <td>3215.0</td>\n",
       "      <td>New York, NY</td>\n",
       "      <td>Lower Manhattan</td>\n",
       "      <td>3011</td>\n",
       "      <td>32796</td>\n",
       "      <td>NaN</td>\n",
       "    </tr>\n",
       "    <tr>\n",
       "      <th>675889</th>\n",
       "      <td>309115</td>\n",
       "      <td>Queens</td>\n",
       "      <td>11109</td>\n",
       "      <td>40.746013</td>\n",
       "      <td>-73.956145</td>\n",
       "      <td>2</td>\n",
       "      <td>NaN</td>\n",
       "      <td>Dead</td>\n",
       "      <td>160625.0</td>\n",
       "      <td>33.8</td>\n",
       "      <td>3225.0</td>\n",
       "      <td>Long Island City, NY</td>\n",
       "      <td>Long Island City</td>\n",
       "      <td>3523</td>\n",
       "      <td>87802</td>\n",
       "      <td>NaN</td>\n",
       "    </tr>\n",
       "    <tr>\n",
       "      <th>675906</th>\n",
       "      <td>411783</td>\n",
       "      <td>Queens</td>\n",
       "      <td>11109</td>\n",
       "      <td>40.745979</td>\n",
       "      <td>-73.956670</td>\n",
       "      <td>4</td>\n",
       "      <td>NaN</td>\n",
       "      <td>Dead</td>\n",
       "      <td>160625.0</td>\n",
       "      <td>33.8</td>\n",
       "      <td>3225.0</td>\n",
       "      <td>Long Island City, NY</td>\n",
       "      <td>Long Island City</td>\n",
       "      <td>3523</td>\n",
       "      <td>87802</td>\n",
       "      <td>NaN</td>\n",
       "    </tr>\n",
       "  </tbody>\n",
       "</table>\n",
       "<p>31270 rows × 16 columns</p>\n",
       "</div>"
      ],
      "text/plain": [
       "        tree_id    borough  zipcode   latitude  longitude  tree_dbh  \\\n",
       "21       179748     Queens    11375  40.721514 -73.836307        20   \n",
       "25       180619     Queens    11375  40.725300 -73.839376         0   \n",
       "64       193184     Queens    11375  40.717028 -73.838292         4   \n",
       "92       211702     Queens    11375  40.709146 -73.845436         0   \n",
       "93       171766     Queens    11375  40.723721 -73.839180         0   \n",
       "...         ...        ...      ...        ...        ...       ...   \n",
       "675880    75763  Manhattan    10006  40.708478 -74.012388         4   \n",
       "675881    76128  Manhattan    10006  40.705507 -74.015389         2   \n",
       "675886    76391  Manhattan    10006  40.709133 -74.013974         2   \n",
       "675889   309115     Queens    11109  40.746013 -73.956145         2   \n",
       "675906   411783     Queens    11109  40.745979 -73.956670         4   \n",
       "\n",
       "       spc_common health  Median_Individual_Income  Median_Resident_Age  \\\n",
       "21            NaN   Dead                   84617.0                 43.5   \n",
       "25            NaN   Dead                   84617.0                 43.5   \n",
       "64            NaN   Dead                   84617.0                 43.5   \n",
       "92            NaN   Dead                   84617.0                 43.5   \n",
       "93            NaN   Dead                   84617.0                 43.5   \n",
       "...           ...    ...                       ...                  ...   \n",
       "675880        NaN   Dead                  179044.0                 33.9   \n",
       "675881        NaN   Dead                  179044.0                 33.9   \n",
       "675886        NaN   Dead                  179044.0                 33.9   \n",
       "675889        NaN   Dead                  160625.0                 33.8   \n",
       "675906        NaN   Dead                  160625.0                 33.8   \n",
       "\n",
       "        Median_Monthly_House_Cost           post_office         neighborhood  \\\n",
       "21                         1570.0      Forest Hills, NY  West Central Queens   \n",
       "25                         1570.0      Forest Hills, NY  West Central Queens   \n",
       "64                         1570.0      Forest Hills, NY  West Central Queens   \n",
       "92                         1570.0      Forest Hills, NY  West Central Queens   \n",
       "93                         1570.0      Forest Hills, NY  West Central Queens   \n",
       "...                           ...                   ...                  ...   \n",
       "675880                     3215.0          New York, NY      Lower Manhattan   \n",
       "675881                     3215.0          New York, NY      Lower Manhattan   \n",
       "675886                     3215.0          New York, NY      Lower Manhattan   \n",
       "675889                     3225.0  Long Island City, NY     Long Island City   \n",
       "675906                     3225.0  Long Island City, NY     Long Island City   \n",
       "\n",
       "        population  density family  \n",
       "21           68733    34707    NaN  \n",
       "25           68733    34707    NaN  \n",
       "64           68733    34707    NaN  \n",
       "92           68733    34707    NaN  \n",
       "93           68733    34707    NaN  \n",
       "...            ...      ...    ...  \n",
       "675880        3011    32796    NaN  \n",
       "675881        3011    32796    NaN  \n",
       "675886        3011    32796    NaN  \n",
       "675889        3523    87802    NaN  \n",
       "675906        3523    87802    NaN  \n",
       "\n",
       "[31270 rows x 16 columns]"
      ]
     },
     "execution_count": 127,
     "metadata": {},
     "output_type": "execute_result"
    }
   ],
   "source": [
    "new_2015[new_2015['spc_common'].isna()]"
   ]
  },
  {
   "cell_type": "code",
   "execution_count": 128,
   "id": "5b809d20",
   "metadata": {},
   "outputs": [],
   "source": [
    "new_2015.to_csv('2015_tree_dead.csv',index=False)"
   ]
  },
  {
   "cell_type": "code",
   "execution_count": 356,
   "id": "3976547a",
   "metadata": {},
   "outputs": [],
   "source": [
    "f=open('311_DPR.json',encoding='utf-8')\n",
    "json_data=json.load(f)"
   ]
  },
  {
   "cell_type": "code",
   "execution_count": 375,
   "id": "7645ddc4",
   "metadata": {},
   "outputs": [],
   "source": [
    "def filter_by_time(json_data, **kwargs):\n",
    "    params = kwargs\n",
    "    for key in params:\n",
    "        if (json_data.get(key) < params[key][0]) or (json_data.get(key) > params[key][1]):\n",
    "            return False\n",
    "    return True\n"
   ]
  },
  {
   "cell_type": "code",
   "execution_count": 378,
   "id": "aa139ad3",
   "metadata": {},
   "outputs": [],
   "source": [
    "filtered_json = list(filter(lambda x: filter_by_time(x, created_date=['2015-01-01T00:00:00.000',\n",
    "                                                                      '2016-01-01T00:00:00.000']), json_data))\n"
   ]
  },
  {
   "cell_type": "code",
   "execution_count": 3,
   "id": "8870fb75",
   "metadata": {},
   "outputs": [],
   "source": [
    "from pandas.io.json import json_normalize"
   ]
  },
  {
   "cell_type": "code",
   "execution_count": 384,
   "id": "484906d2",
   "metadata": {},
   "outputs": [],
   "source": [
    "df_311 = json_normalize(filtered_json)"
   ]
  },
  {
   "cell_type": "code",
   "execution_count": 52,
   "id": "a67165ab",
   "metadata": {},
   "outputs": [],
   "source": [
    "tree_complaint = pd.read_csv('311_tree.csv')"
   ]
  },
  {
   "cell_type": "code",
   "execution_count": 53,
   "id": "254a0639",
   "metadata": {},
   "outputs": [
    {
     "data": {
      "text/html": [
       "<div>\n",
       "<style scoped>\n",
       "    .dataframe tbody tr th:only-of-type {\n",
       "        vertical-align: middle;\n",
       "    }\n",
       "\n",
       "    .dataframe tbody tr th {\n",
       "        vertical-align: top;\n",
       "    }\n",
       "\n",
       "    .dataframe thead th {\n",
       "        text-align: right;\n",
       "    }\n",
       "</style>\n",
       "<table border=\"1\" class=\"dataframe\">\n",
       "  <thead>\n",
       "    <tr style=\"text-align: right;\">\n",
       "      <th></th>\n",
       "      <th>Unique Key</th>\n",
       "      <th>Created Date</th>\n",
       "      <th>Closed Date</th>\n",
       "      <th>Agency</th>\n",
       "      <th>Agency Name</th>\n",
       "      <th>Complaint Type</th>\n",
       "      <th>Descriptor</th>\n",
       "      <th>Location Type</th>\n",
       "      <th>Incident Zip</th>\n",
       "      <th>Incident Address</th>\n",
       "      <th>...</th>\n",
       "      <th>Vehicle Type</th>\n",
       "      <th>Taxi Company Borough</th>\n",
       "      <th>Taxi Pick Up Location</th>\n",
       "      <th>Bridge Highway Name</th>\n",
       "      <th>Bridge Highway Direction</th>\n",
       "      <th>Road Ramp</th>\n",
       "      <th>Bridge Highway Segment</th>\n",
       "      <th>Latitude</th>\n",
       "      <th>Longitude</th>\n",
       "      <th>Location</th>\n",
       "    </tr>\n",
       "  </thead>\n",
       "  <tbody>\n",
       "    <tr>\n",
       "      <th>0</th>\n",
       "      <td>29609033</td>\n",
       "      <td>01/01/2015 01:06:43 AM</td>\n",
       "      <td>01/20/2015 09:19:14 AM</td>\n",
       "      <td>DPR</td>\n",
       "      <td>Department of Parks and Recreation</td>\n",
       "      <td>Illegal Tree Damage</td>\n",
       "      <td>Branches Damaged</td>\n",
       "      <td>NaN</td>\n",
       "      <td>11417.0</td>\n",
       "      <td>133-03 96TH STREET</td>\n",
       "      <td>...</td>\n",
       "      <td>NaN</td>\n",
       "      <td>NaN</td>\n",
       "      <td>NaN</td>\n",
       "      <td>NaN</td>\n",
       "      <td>NaN</td>\n",
       "      <td>NaN</td>\n",
       "      <td>NaN</td>\n",
       "      <td>40.675899</td>\n",
       "      <td>-73.840548</td>\n",
       "      <td>(40.67589932499094, -73.84054778848972)</td>\n",
       "    </tr>\n",
       "    <tr>\n",
       "      <th>1</th>\n",
       "      <td>29614686</td>\n",
       "      <td>01/01/2015 09:22:49 AM</td>\n",
       "      <td>11/10/2015 09:55:56 AM</td>\n",
       "      <td>DPR</td>\n",
       "      <td>Department of Parks and Recreation</td>\n",
       "      <td>New Tree Request</td>\n",
       "      <td>For One Address</td>\n",
       "      <td>NaN</td>\n",
       "      <td>11230.0</td>\n",
       "      <td>325 AVENUE M</td>\n",
       "      <td>...</td>\n",
       "      <td>NaN</td>\n",
       "      <td>NaN</td>\n",
       "      <td>NaN</td>\n",
       "      <td>NaN</td>\n",
       "      <td>NaN</td>\n",
       "      <td>NaN</td>\n",
       "      <td>NaN</td>\n",
       "      <td>40.616744</td>\n",
       "      <td>-73.971653</td>\n",
       "      <td>(40.616743691060684, -73.97165262290905)</td>\n",
       "    </tr>\n",
       "    <tr>\n",
       "      <th>2</th>\n",
       "      <td>29617258</td>\n",
       "      <td>01/01/2015 10:21:32 AM</td>\n",
       "      <td>01/28/2015 08:28:33 AM</td>\n",
       "      <td>DPR</td>\n",
       "      <td>Department of Parks and Recreation</td>\n",
       "      <td>Damaged Tree</td>\n",
       "      <td>Branch Cracked and Will Fall</td>\n",
       "      <td>Street</td>\n",
       "      <td>11423.0</td>\n",
       "      <td>192-63 HOLLIS AVENUE</td>\n",
       "      <td>...</td>\n",
       "      <td>NaN</td>\n",
       "      <td>NaN</td>\n",
       "      <td>NaN</td>\n",
       "      <td>NaN</td>\n",
       "      <td>NaN</td>\n",
       "      <td>NaN</td>\n",
       "      <td>NaN</td>\n",
       "      <td>40.707703</td>\n",
       "      <td>-73.765019</td>\n",
       "      <td>(40.70770262096205, -73.76501943349744)</td>\n",
       "    </tr>\n",
       "    <tr>\n",
       "      <th>3</th>\n",
       "      <td>29616438</td>\n",
       "      <td>01/01/2015 11:08:14 AM</td>\n",
       "      <td>NaN</td>\n",
       "      <td>DPR</td>\n",
       "      <td>Department of Parks and Recreation</td>\n",
       "      <td>New Tree Request</td>\n",
       "      <td>For One Address</td>\n",
       "      <td>NaN</td>\n",
       "      <td>11225.0</td>\n",
       "      <td>2111 BEEKMAN PL</td>\n",
       "      <td>...</td>\n",
       "      <td>NaN</td>\n",
       "      <td>NaN</td>\n",
       "      <td>NaN</td>\n",
       "      <td>NaN</td>\n",
       "      <td>NaN</td>\n",
       "      <td>NaN</td>\n",
       "      <td>NaN</td>\n",
       "      <td>40.660221</td>\n",
       "      <td>-73.961311</td>\n",
       "      <td>(40.66022084056072, -73.96131142741272)</td>\n",
       "    </tr>\n",
       "    <tr>\n",
       "      <th>4</th>\n",
       "      <td>29618437</td>\n",
       "      <td>01/01/2015 11:56:20 AM</td>\n",
       "      <td>11/10/2015 08:44:41 AM</td>\n",
       "      <td>DPR</td>\n",
       "      <td>Department of Parks and Recreation</td>\n",
       "      <td>New Tree Request</td>\n",
       "      <td>For One Address</td>\n",
       "      <td>Street</td>\n",
       "      <td>11215.0</td>\n",
       "      <td>837 UNION STREET</td>\n",
       "      <td>...</td>\n",
       "      <td>NaN</td>\n",
       "      <td>NaN</td>\n",
       "      <td>NaN</td>\n",
       "      <td>NaN</td>\n",
       "      <td>NaN</td>\n",
       "      <td>NaN</td>\n",
       "      <td>NaN</td>\n",
       "      <td>40.674822</td>\n",
       "      <td>-73.976358</td>\n",
       "      <td>(40.67482164349205, -73.9763578163367)</td>\n",
       "    </tr>\n",
       "  </tbody>\n",
       "</table>\n",
       "<p>5 rows × 41 columns</p>\n",
       "</div>"
      ],
      "text/plain": [
       "   Unique Key            Created Date             Closed Date Agency  \\\n",
       "0    29609033  01/01/2015 01:06:43 AM  01/20/2015 09:19:14 AM    DPR   \n",
       "1    29614686  01/01/2015 09:22:49 AM  11/10/2015 09:55:56 AM    DPR   \n",
       "2    29617258  01/01/2015 10:21:32 AM  01/28/2015 08:28:33 AM    DPR   \n",
       "3    29616438  01/01/2015 11:08:14 AM                     NaN    DPR   \n",
       "4    29618437  01/01/2015 11:56:20 AM  11/10/2015 08:44:41 AM    DPR   \n",
       "\n",
       "                          Agency Name       Complaint Type  \\\n",
       "0  Department of Parks and Recreation  Illegal Tree Damage   \n",
       "1  Department of Parks and Recreation     New Tree Request   \n",
       "2  Department of Parks and Recreation         Damaged Tree   \n",
       "3  Department of Parks and Recreation     New Tree Request   \n",
       "4  Department of Parks and Recreation     New Tree Request   \n",
       "\n",
       "                     Descriptor Location Type  Incident Zip  \\\n",
       "0              Branches Damaged           NaN       11417.0   \n",
       "1               For One Address           NaN       11230.0   \n",
       "2  Branch Cracked and Will Fall        Street       11423.0   \n",
       "3               For One Address           NaN       11225.0   \n",
       "4               For One Address        Street       11215.0   \n",
       "\n",
       "       Incident Address  ... Vehicle Type Taxi Company Borough  \\\n",
       "0    133-03 96TH STREET  ...          NaN                  NaN   \n",
       "1          325 AVENUE M  ...          NaN                  NaN   \n",
       "2  192-63 HOLLIS AVENUE  ...          NaN                  NaN   \n",
       "3       2111 BEEKMAN PL  ...          NaN                  NaN   \n",
       "4      837 UNION STREET  ...          NaN                  NaN   \n",
       "\n",
       "  Taxi Pick Up Location Bridge Highway Name Bridge Highway Direction  \\\n",
       "0                   NaN                 NaN                      NaN   \n",
       "1                   NaN                 NaN                      NaN   \n",
       "2                   NaN                 NaN                      NaN   \n",
       "3                   NaN                 NaN                      NaN   \n",
       "4                   NaN                 NaN                      NaN   \n",
       "\n",
       "  Road Ramp Bridge Highway Segment   Latitude  Longitude  \\\n",
       "0       NaN                    NaN  40.675899 -73.840548   \n",
       "1       NaN                    NaN  40.616744 -73.971653   \n",
       "2       NaN                    NaN  40.707703 -73.765019   \n",
       "3       NaN                    NaN  40.660221 -73.961311   \n",
       "4       NaN                    NaN  40.674822 -73.976358   \n",
       "\n",
       "                                   Location  \n",
       "0   (40.67589932499094, -73.84054778848972)  \n",
       "1  (40.616743691060684, -73.97165262290905)  \n",
       "2   (40.70770262096205, -73.76501943349744)  \n",
       "3   (40.66022084056072, -73.96131142741272)  \n",
       "4    (40.67482164349205, -73.9763578163367)  \n",
       "\n",
       "[5 rows x 41 columns]"
      ]
     },
     "execution_count": 53,
     "metadata": {},
     "output_type": "execute_result"
    }
   ],
   "source": [
    "tree_complaint.head()"
   ]
  },
  {
   "cell_type": "code",
   "execution_count": 54,
   "id": "021471d4",
   "metadata": {},
   "outputs": [],
   "source": [
    "tree_complaint = tree_complaint.dropna(subset=['Incident Zip'])"
   ]
  },
  {
   "cell_type": "code",
   "execution_count": 68,
   "id": "5482f16f",
   "metadata": {
    "collapsed": true
   },
   "outputs": [
    {
     "data": {
      "text/plain": [
       "[24.0,\n",
       " 83.0,\n",
       " 10001.0,\n",
       " 10002.0,\n",
       " 10003.0,\n",
       " 10004.0,\n",
       " 10005.0,\n",
       " 10006.0,\n",
       " 10007.0,\n",
       " 10009.0,\n",
       " 10010.0,\n",
       " 10011.0,\n",
       " 10012.0,\n",
       " 10013.0,\n",
       " 10014.0,\n",
       " 10016.0,\n",
       " 10017.0,\n",
       " 10018.0,\n",
       " 10019.0,\n",
       " 10021.0,\n",
       " 10022.0,\n",
       " 10023.0,\n",
       " 10024.0,\n",
       " 10025.0,\n",
       " 10026.0,\n",
       " 10027.0,\n",
       " 10028.0,\n",
       " 10029.0,\n",
       " 10030.0,\n",
       " 10031.0,\n",
       " 10032.0,\n",
       " 10033.0,\n",
       " 10034.0,\n",
       " 10035.0,\n",
       " 10036.0,\n",
       " 10037.0,\n",
       " 10038.0,\n",
       " 10039.0,\n",
       " 10040.0,\n",
       " 10044.0,\n",
       " 10065.0,\n",
       " 10069.0,\n",
       " 10075.0,\n",
       " 10107.0,\n",
       " 10128.0,\n",
       " 10162.0,\n",
       " 10280.0,\n",
       " 10282.0,\n",
       " 10301.0,\n",
       " 10302.0,\n",
       " 10303.0,\n",
       " 10304.0,\n",
       " 10305.0,\n",
       " 10306.0,\n",
       " 10307.0,\n",
       " 10308.0,\n",
       " 10309.0,\n",
       " 10310.0,\n",
       " 10312.0,\n",
       " 10314.0,\n",
       " 10451.0,\n",
       " 10452.0,\n",
       " 10453.0,\n",
       " 10454.0,\n",
       " 10455.0,\n",
       " 10456.0,\n",
       " 10457.0,\n",
       " 10458.0,\n",
       " 10459.0,\n",
       " 10460.0,\n",
       " 10461.0,\n",
       " 10462.0,\n",
       " 10463.0,\n",
       " 10464.0,\n",
       " 10465.0,\n",
       " 10466.0,\n",
       " 10467.0,\n",
       " 10468.0,\n",
       " 10469.0,\n",
       " 10470.0,\n",
       " 10471.0,\n",
       " 10472.0,\n",
       " 10473.0,\n",
       " 10474.0,\n",
       " 10475.0,\n",
       " 10701.0,\n",
       " 10803.0,\n",
       " 11001.0,\n",
       " 11004.0,\n",
       " 11040.0,\n",
       " 11101.0,\n",
       " 11102.0,\n",
       " 11103.0,\n",
       " 11104.0,\n",
       " 11105.0,\n",
       " 11106.0,\n",
       " 11109.0,\n",
       " 11201.0,\n",
       " 11203.0,\n",
       " 11204.0,\n",
       " 11205.0,\n",
       " 11206.0,\n",
       " 11207.0,\n",
       " 11208.0,\n",
       " 11209.0,\n",
       " 11210.0,\n",
       " 11211.0,\n",
       " 11212.0,\n",
       " 11213.0,\n",
       " 11214.0,\n",
       " 11215.0,\n",
       " 11216.0,\n",
       " 11217.0,\n",
       " 11218.0,\n",
       " 11219.0,\n",
       " 11220.0,\n",
       " 11221.0,\n",
       " 11222.0,\n",
       " 11223.0,\n",
       " 11224.0,\n",
       " 11225.0,\n",
       " 11226.0,\n",
       " 11228.0,\n",
       " 11229.0,\n",
       " 11230.0,\n",
       " 11231.0,\n",
       " 11232.0,\n",
       " 11233.0,\n",
       " 11234.0,\n",
       " 11235.0,\n",
       " 11236.0,\n",
       " 11237.0,\n",
       " 11238.0,\n",
       " 11239.0,\n",
       " 11249.0,\n",
       " 11354.0,\n",
       " 11355.0,\n",
       " 11356.0,\n",
       " 11357.0,\n",
       " 11358.0,\n",
       " 11360.0,\n",
       " 11361.0,\n",
       " 11362.0,\n",
       " 11363.0,\n",
       " 11364.0,\n",
       " 11365.0,\n",
       " 11366.0,\n",
       " 11367.0,\n",
       " 11368.0,\n",
       " 11369.0,\n",
       " 11370.0,\n",
       " 11372.0,\n",
       " 11373.0,\n",
       " 11374.0,\n",
       " 11375.0,\n",
       " 11377.0,\n",
       " 11378.0,\n",
       " 11379.0,\n",
       " 11385.0,\n",
       " 11411.0,\n",
       " 11412.0,\n",
       " 11413.0,\n",
       " 11414.0,\n",
       " 11415.0,\n",
       " 11416.0,\n",
       " 11417.0,\n",
       " 11418.0,\n",
       " 11419.0,\n",
       " 11420.0,\n",
       " 11421.0,\n",
       " 11422.0,\n",
       " 11423.0,\n",
       " 11426.0,\n",
       " 11427.0,\n",
       " 11428.0,\n",
       " 11429.0,\n",
       " 11432.0,\n",
       " 11433.0,\n",
       " 11434.0,\n",
       " 11435.0,\n",
       " 11436.0,\n",
       " 11691.0,\n",
       " 11692.0,\n",
       " 11693.0,\n",
       " 11694.0,\n",
       " 12222.0]"
      ]
     },
     "execution_count": 68,
     "metadata": {},
     "output_type": "execute_result"
    }
   ],
   "source": [
    "sorted(tree_complaint['Incident Zip'].unique())"
   ]
  },
  {
   "cell_type": "code",
   "execution_count": 55,
   "id": "36f4889e",
   "metadata": {},
   "outputs": [],
   "source": [
    "tree_complaint['Created Day'] = tree_complaint.apply(lambda x: x['Created Date'][:10],axis=1)\n",
    "tree_complaint['Created Day'] = pd.to_datetime(tree_complaint['Created Day'])"
   ]
  },
  {
   "cell_type": "code",
   "execution_count": 56,
   "id": "c1b1f0ad",
   "metadata": {},
   "outputs": [
    {
     "data": {
      "text/plain": [
       "(60964, 42)"
      ]
     },
     "execution_count": 56,
     "metadata": {},
     "output_type": "execute_result"
    }
   ],
   "source": [
    "tree_complaint.shape"
   ]
  },
  {
   "cell_type": "code",
   "execution_count": 57,
   "id": "71db2724",
   "metadata": {},
   "outputs": [
    {
     "data": {
      "text/plain": [
       "array(['Illegal Tree Damage', 'New Tree Request', 'Damaged Tree',\n",
       "       'Overgrown Tree/Branches', 'Dead Tree'], dtype=object)"
      ]
     },
     "execution_count": 57,
     "metadata": {},
     "output_type": "execute_result"
    }
   ],
   "source": [
    "tree_complaint['Complaint Type'].unique()"
   ]
  },
  {
   "cell_type": "code",
   "execution_count": 58,
   "id": "2218e7d4",
   "metadata": {},
   "outputs": [
    {
     "data": {
      "text/plain": [
       "array(['DPR'], dtype=object)"
      ]
     },
     "execution_count": 58,
     "metadata": {},
     "output_type": "execute_result"
    }
   ],
   "source": [
    "tree_complaint['Agency'].unique()"
   ]
  },
  {
   "cell_type": "code",
   "execution_count": 59,
   "id": "4aeec8b9",
   "metadata": {},
   "outputs": [
    {
     "data": {
      "text/plain": [
       "count                   60964\n",
       "unique                    365\n",
       "top       2015-07-20 00:00:00\n",
       "freq                      589\n",
       "first     2015-01-01 00:00:00\n",
       "last      2015-12-31 00:00:00\n",
       "Name: Created Day, dtype: object"
      ]
     },
     "execution_count": 59,
     "metadata": {},
     "output_type": "execute_result"
    }
   ],
   "source": [
    "tree_complaint['Created Day'].describe()"
   ]
  },
  {
   "cell_type": "code",
   "execution_count": 60,
   "id": "f96304d8",
   "metadata": {},
   "outputs": [],
   "source": [
    "tree_complaint.to_csv('311_tree_complaint.csv',index=False)"
   ]
  },
  {
   "cell_type": "code",
   "execution_count": 61,
   "id": "72480cc4",
   "metadata": {},
   "outputs": [],
   "source": [
    "tree_process = pd.read_csv('2015_tree_process.csv')"
   ]
  },
  {
   "cell_type": "code",
   "execution_count": 62,
   "id": "70549573",
   "metadata": {},
   "outputs": [
    {
     "data": {
      "text/html": [
       "<div>\n",
       "<style scoped>\n",
       "    .dataframe tbody tr th:only-of-type {\n",
       "        vertical-align: middle;\n",
       "    }\n",
       "\n",
       "    .dataframe tbody tr th {\n",
       "        vertical-align: top;\n",
       "    }\n",
       "\n",
       "    .dataframe thead th {\n",
       "        text-align: right;\n",
       "    }\n",
       "</style>\n",
       "<table border=\"1\" class=\"dataframe\">\n",
       "  <thead>\n",
       "    <tr style=\"text-align: right;\">\n",
       "      <th></th>\n",
       "      <th>tree_id</th>\n",
       "      <th>borough</th>\n",
       "      <th>zipcode</th>\n",
       "      <th>latitude</th>\n",
       "      <th>longitude</th>\n",
       "      <th>tree_dbh</th>\n",
       "      <th>spc_common</th>\n",
       "      <th>health</th>\n",
       "      <th>Median_Individual_Income</th>\n",
       "      <th>Median_Resident_Age</th>\n",
       "      <th>Median_Monthly_House_Cost</th>\n",
       "      <th>post_office</th>\n",
       "      <th>neighborhood</th>\n",
       "      <th>population</th>\n",
       "      <th>density</th>\n",
       "      <th>family</th>\n",
       "      <th>health_class</th>\n",
       "      <th>borough_class</th>\n",
       "      <th>tree_class</th>\n",
       "      <th>tree_family_class</th>\n",
       "    </tr>\n",
       "  </thead>\n",
       "  <tbody>\n",
       "    <tr>\n",
       "      <th>0</th>\n",
       "      <td>180683</td>\n",
       "      <td>Queens</td>\n",
       "      <td>11375</td>\n",
       "      <td>40.723092</td>\n",
       "      <td>-73.844215</td>\n",
       "      <td>3</td>\n",
       "      <td>red maple</td>\n",
       "      <td>Fair</td>\n",
       "      <td>84617.0</td>\n",
       "      <td>43.5</td>\n",
       "      <td>1570.0</td>\n",
       "      <td>Forest Hills, NY</td>\n",
       "      <td>West Central Queens</td>\n",
       "      <td>68733</td>\n",
       "      <td>34707</td>\n",
       "      <td>Aceraceae</td>\n",
       "      <td>2</td>\n",
       "      <td>1</td>\n",
       "      <td>1.0</td>\n",
       "      <td>0</td>\n",
       "    </tr>\n",
       "    <tr>\n",
       "      <th>1</th>\n",
       "      <td>203550</td>\n",
       "      <td>Queens</td>\n",
       "      <td>11375</td>\n",
       "      <td>40.713170</td>\n",
       "      <td>-73.854446</td>\n",
       "      <td>42</td>\n",
       "      <td>London planetree</td>\n",
       "      <td>Good</td>\n",
       "      <td>84617.0</td>\n",
       "      <td>43.5</td>\n",
       "      <td>1570.0</td>\n",
       "      <td>Forest Hills, NY</td>\n",
       "      <td>West Central Queens</td>\n",
       "      <td>68733</td>\n",
       "      <td>34707</td>\n",
       "      <td>Platanaceae</td>\n",
       "      <td>1</td>\n",
       "      <td>1</td>\n",
       "      <td>1.0</td>\n",
       "      <td>1</td>\n",
       "    </tr>\n",
       "    <tr>\n",
       "      <th>2</th>\n",
       "      <td>193183</td>\n",
       "      <td>Queens</td>\n",
       "      <td>11375</td>\n",
       "      <td>40.717032</td>\n",
       "      <td>-73.838297</td>\n",
       "      <td>3</td>\n",
       "      <td>Amur maple</td>\n",
       "      <td>Good</td>\n",
       "      <td>84617.0</td>\n",
       "      <td>43.5</td>\n",
       "      <td>1570.0</td>\n",
       "      <td>Forest Hills, NY</td>\n",
       "      <td>West Central Queens</td>\n",
       "      <td>68733</td>\n",
       "      <td>34707</td>\n",
       "      <td>Aceraceae</td>\n",
       "      <td>1</td>\n",
       "      <td>1</td>\n",
       "      <td>3.0</td>\n",
       "      <td>0</td>\n",
       "    </tr>\n",
       "    <tr>\n",
       "      <th>3</th>\n",
       "      <td>203577</td>\n",
       "      <td>Queens</td>\n",
       "      <td>11375</td>\n",
       "      <td>40.712480</td>\n",
       "      <td>-73.855020</td>\n",
       "      <td>26</td>\n",
       "      <td>London planetree</td>\n",
       "      <td>Good</td>\n",
       "      <td>84617.0</td>\n",
       "      <td>43.5</td>\n",
       "      <td>1570.0</td>\n",
       "      <td>Forest Hills, NY</td>\n",
       "      <td>West Central Queens</td>\n",
       "      <td>68733</td>\n",
       "      <td>34707</td>\n",
       "      <td>Platanaceae</td>\n",
       "      <td>1</td>\n",
       "      <td>1</td>\n",
       "      <td>1.0</td>\n",
       "      <td>1</td>\n",
       "    </tr>\n",
       "    <tr>\n",
       "      <th>4</th>\n",
       "      <td>203386</td>\n",
       "      <td>Queens</td>\n",
       "      <td>11375</td>\n",
       "      <td>40.712641</td>\n",
       "      <td>-73.852138</td>\n",
       "      <td>26</td>\n",
       "      <td>London planetree</td>\n",
       "      <td>Good</td>\n",
       "      <td>84617.0</td>\n",
       "      <td>43.5</td>\n",
       "      <td>1570.0</td>\n",
       "      <td>Forest Hills, NY</td>\n",
       "      <td>West Central Queens</td>\n",
       "      <td>68733</td>\n",
       "      <td>34707</td>\n",
       "      <td>Platanaceae</td>\n",
       "      <td>1</td>\n",
       "      <td>1</td>\n",
       "      <td>1.0</td>\n",
       "      <td>1</td>\n",
       "    </tr>\n",
       "  </tbody>\n",
       "</table>\n",
       "</div>"
      ],
      "text/plain": [
       "   tree_id borough  zipcode   latitude  longitude  tree_dbh        spc_common  \\\n",
       "0   180683  Queens    11375  40.723092 -73.844215         3         red maple   \n",
       "1   203550  Queens    11375  40.713170 -73.854446        42  London planetree   \n",
       "2   193183  Queens    11375  40.717032 -73.838297         3        Amur maple   \n",
       "3   203577  Queens    11375  40.712480 -73.855020        26  London planetree   \n",
       "4   203386  Queens    11375  40.712641 -73.852138        26  London planetree   \n",
       "\n",
       "  health  Median_Individual_Income  Median_Resident_Age  \\\n",
       "0   Fair                   84617.0                 43.5   \n",
       "1   Good                   84617.0                 43.5   \n",
       "2   Good                   84617.0                 43.5   \n",
       "3   Good                   84617.0                 43.5   \n",
       "4   Good                   84617.0                 43.5   \n",
       "\n",
       "   Median_Monthly_House_Cost       post_office         neighborhood  \\\n",
       "0                     1570.0  Forest Hills, NY  West Central Queens   \n",
       "1                     1570.0  Forest Hills, NY  West Central Queens   \n",
       "2                     1570.0  Forest Hills, NY  West Central Queens   \n",
       "3                     1570.0  Forest Hills, NY  West Central Queens   \n",
       "4                     1570.0  Forest Hills, NY  West Central Queens   \n",
       "\n",
       "   population  density       family  health_class  borough_class  tree_class  \\\n",
       "0       68733    34707    Aceraceae             2              1         1.0   \n",
       "1       68733    34707  Platanaceae             1              1         1.0   \n",
       "2       68733    34707    Aceraceae             1              1         3.0   \n",
       "3       68733    34707  Platanaceae             1              1         1.0   \n",
       "4       68733    34707  Platanaceae             1              1         1.0   \n",
       "\n",
       "   tree_family_class  \n",
       "0                  0  \n",
       "1                  1  \n",
       "2                  0  \n",
       "3                  1  \n",
       "4                  1  "
      ]
     },
     "execution_count": 62,
     "metadata": {},
     "output_type": "execute_result"
    }
   ],
   "source": [
    "tree_process.head()"
   ]
  },
  {
   "cell_type": "code",
   "execution_count": 73,
   "id": "9c8e51ae",
   "metadata": {},
   "outputs": [],
   "source": [
    "complaint_count = tree_complaint.groupby('Incident Zip').agg({\n",
    "    'Unique Key':'count'\n",
    "}).reset_index()"
   ]
  },
  {
   "cell_type": "code",
   "execution_count": 80,
   "id": "4a1100c4",
   "metadata": {},
   "outputs": [],
   "source": [
    "complaint_count = complaint_count.rename(columns={'Unique Key':'comlaint_count'})"
   ]
  },
  {
   "cell_type": "code",
   "execution_count": 83,
   "id": "1843f165",
   "metadata": {},
   "outputs": [],
   "source": [
    "tree_process = pd.merge(tree_process,complaint_count,left_on='zipcode',right_on='Incident Zip',how='left').drop(columns=['Incident Zip'])\n"
   ]
  },
  {
   "cell_type": "code",
   "execution_count": 84,
   "id": "aebbbf5d",
   "metadata": {},
   "outputs": [],
   "source": [
    "tree_process.to_csv('2015_tree_process.csv',index=False)"
   ]
  },
  {
   "cell_type": "code",
   "execution_count": 85,
   "id": "6dd78c17",
   "metadata": {},
   "outputs": [
    {
     "data": {
      "text/html": [
       "<div>\n",
       "<style scoped>\n",
       "    .dataframe tbody tr th:only-of-type {\n",
       "        vertical-align: middle;\n",
       "    }\n",
       "\n",
       "    .dataframe tbody tr th {\n",
       "        vertical-align: top;\n",
       "    }\n",
       "\n",
       "    .dataframe thead th {\n",
       "        text-align: right;\n",
       "    }\n",
       "</style>\n",
       "<table border=\"1\" class=\"dataframe\">\n",
       "  <thead>\n",
       "    <tr style=\"text-align: right;\">\n",
       "      <th></th>\n",
       "      <th>tree_id</th>\n",
       "      <th>borough</th>\n",
       "      <th>zipcode</th>\n",
       "      <th>latitude</th>\n",
       "      <th>longitude</th>\n",
       "      <th>tree_dbh</th>\n",
       "      <th>spc_common</th>\n",
       "      <th>health</th>\n",
       "      <th>Median_Individual_Income</th>\n",
       "      <th>Median_Resident_Age</th>\n",
       "      <th>...</th>\n",
       "      <th>post_office</th>\n",
       "      <th>neighborhood</th>\n",
       "      <th>population</th>\n",
       "      <th>density</th>\n",
       "      <th>family</th>\n",
       "      <th>health_class</th>\n",
       "      <th>borough_class</th>\n",
       "      <th>tree_class</th>\n",
       "      <th>tree_family_class</th>\n",
       "      <th>comlaint_count</th>\n",
       "    </tr>\n",
       "  </thead>\n",
       "  <tbody>\n",
       "    <tr>\n",
       "      <th>0</th>\n",
       "      <td>180683</td>\n",
       "      <td>Queens</td>\n",
       "      <td>11375</td>\n",
       "      <td>40.723092</td>\n",
       "      <td>-73.844215</td>\n",
       "      <td>3</td>\n",
       "      <td>red maple</td>\n",
       "      <td>Fair</td>\n",
       "      <td>84617.0</td>\n",
       "      <td>43.5</td>\n",
       "      <td>...</td>\n",
       "      <td>Forest Hills, NY</td>\n",
       "      <td>West Central Queens</td>\n",
       "      <td>68733</td>\n",
       "      <td>34707</td>\n",
       "      <td>Aceraceae</td>\n",
       "      <td>2</td>\n",
       "      <td>1</td>\n",
       "      <td>1.0</td>\n",
       "      <td>0</td>\n",
       "      <td>783.0</td>\n",
       "    </tr>\n",
       "    <tr>\n",
       "      <th>1</th>\n",
       "      <td>203550</td>\n",
       "      <td>Queens</td>\n",
       "      <td>11375</td>\n",
       "      <td>40.713170</td>\n",
       "      <td>-73.854446</td>\n",
       "      <td>42</td>\n",
       "      <td>London planetree</td>\n",
       "      <td>Good</td>\n",
       "      <td>84617.0</td>\n",
       "      <td>43.5</td>\n",
       "      <td>...</td>\n",
       "      <td>Forest Hills, NY</td>\n",
       "      <td>West Central Queens</td>\n",
       "      <td>68733</td>\n",
       "      <td>34707</td>\n",
       "      <td>Platanaceae</td>\n",
       "      <td>1</td>\n",
       "      <td>1</td>\n",
       "      <td>1.0</td>\n",
       "      <td>1</td>\n",
       "      <td>783.0</td>\n",
       "    </tr>\n",
       "    <tr>\n",
       "      <th>2</th>\n",
       "      <td>193183</td>\n",
       "      <td>Queens</td>\n",
       "      <td>11375</td>\n",
       "      <td>40.717032</td>\n",
       "      <td>-73.838297</td>\n",
       "      <td>3</td>\n",
       "      <td>Amur maple</td>\n",
       "      <td>Good</td>\n",
       "      <td>84617.0</td>\n",
       "      <td>43.5</td>\n",
       "      <td>...</td>\n",
       "      <td>Forest Hills, NY</td>\n",
       "      <td>West Central Queens</td>\n",
       "      <td>68733</td>\n",
       "      <td>34707</td>\n",
       "      <td>Aceraceae</td>\n",
       "      <td>1</td>\n",
       "      <td>1</td>\n",
       "      <td>3.0</td>\n",
       "      <td>0</td>\n",
       "      <td>783.0</td>\n",
       "    </tr>\n",
       "    <tr>\n",
       "      <th>3</th>\n",
       "      <td>203577</td>\n",
       "      <td>Queens</td>\n",
       "      <td>11375</td>\n",
       "      <td>40.712480</td>\n",
       "      <td>-73.855020</td>\n",
       "      <td>26</td>\n",
       "      <td>London planetree</td>\n",
       "      <td>Good</td>\n",
       "      <td>84617.0</td>\n",
       "      <td>43.5</td>\n",
       "      <td>...</td>\n",
       "      <td>Forest Hills, NY</td>\n",
       "      <td>West Central Queens</td>\n",
       "      <td>68733</td>\n",
       "      <td>34707</td>\n",
       "      <td>Platanaceae</td>\n",
       "      <td>1</td>\n",
       "      <td>1</td>\n",
       "      <td>1.0</td>\n",
       "      <td>1</td>\n",
       "      <td>783.0</td>\n",
       "    </tr>\n",
       "    <tr>\n",
       "      <th>4</th>\n",
       "      <td>203386</td>\n",
       "      <td>Queens</td>\n",
       "      <td>11375</td>\n",
       "      <td>40.712641</td>\n",
       "      <td>-73.852138</td>\n",
       "      <td>26</td>\n",
       "      <td>London planetree</td>\n",
       "      <td>Good</td>\n",
       "      <td>84617.0</td>\n",
       "      <td>43.5</td>\n",
       "      <td>...</td>\n",
       "      <td>Forest Hills, NY</td>\n",
       "      <td>West Central Queens</td>\n",
       "      <td>68733</td>\n",
       "      <td>34707</td>\n",
       "      <td>Platanaceae</td>\n",
       "      <td>1</td>\n",
       "      <td>1</td>\n",
       "      <td>1.0</td>\n",
       "      <td>1</td>\n",
       "      <td>783.0</td>\n",
       "    </tr>\n",
       "  </tbody>\n",
       "</table>\n",
       "<p>5 rows × 21 columns</p>\n",
       "</div>"
      ],
      "text/plain": [
       "   tree_id borough  zipcode   latitude  longitude  tree_dbh        spc_common  \\\n",
       "0   180683  Queens    11375  40.723092 -73.844215         3         red maple   \n",
       "1   203550  Queens    11375  40.713170 -73.854446        42  London planetree   \n",
       "2   193183  Queens    11375  40.717032 -73.838297         3        Amur maple   \n",
       "3   203577  Queens    11375  40.712480 -73.855020        26  London planetree   \n",
       "4   203386  Queens    11375  40.712641 -73.852138        26  London planetree   \n",
       "\n",
       "  health  Median_Individual_Income  Median_Resident_Age  ...  \\\n",
       "0   Fair                   84617.0                 43.5  ...   \n",
       "1   Good                   84617.0                 43.5  ...   \n",
       "2   Good                   84617.0                 43.5  ...   \n",
       "3   Good                   84617.0                 43.5  ...   \n",
       "4   Good                   84617.0                 43.5  ...   \n",
       "\n",
       "        post_office         neighborhood population  density       family  \\\n",
       "0  Forest Hills, NY  West Central Queens      68733    34707    Aceraceae   \n",
       "1  Forest Hills, NY  West Central Queens      68733    34707  Platanaceae   \n",
       "2  Forest Hills, NY  West Central Queens      68733    34707    Aceraceae   \n",
       "3  Forest Hills, NY  West Central Queens      68733    34707  Platanaceae   \n",
       "4  Forest Hills, NY  West Central Queens      68733    34707  Platanaceae   \n",
       "\n",
       "  health_class  borough_class  tree_class  tree_family_class  comlaint_count  \n",
       "0            2              1         1.0                  0           783.0  \n",
       "1            1              1         1.0                  1           783.0  \n",
       "2            1              1         3.0                  0           783.0  \n",
       "3            1              1         1.0                  1           783.0  \n",
       "4            1              1         1.0                  1           783.0  \n",
       "\n",
       "[5 rows x 21 columns]"
      ]
     },
     "execution_count": 85,
     "metadata": {},
     "output_type": "execute_result"
    }
   ],
   "source": [
    "tree_process.head()"
   ]
  },
  {
   "cell_type": "code",
   "execution_count": null,
   "id": "18ce0fd7",
   "metadata": {},
   "outputs": [],
   "source": []
  }
 ],
 "metadata": {
  "kernelspec": {
   "display_name": "Python 3 (ipykernel)",
   "language": "python",
   "name": "python3"
  },
  "language_info": {
   "codemirror_mode": {
    "name": "ipython",
    "version": 3
   },
   "file_extension": ".py",
   "mimetype": "text/x-python",
   "name": "python",
   "nbconvert_exporter": "python",
   "pygments_lexer": "ipython3",
   "version": "3.9.7"
  }
 },
 "nbformat": 4,
 "nbformat_minor": 5
}
